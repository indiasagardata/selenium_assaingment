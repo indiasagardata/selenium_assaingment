{
 "cells": [
  {
   "cell_type": "markdown",
   "id": "d25c2dee",
   "metadata": {},
   "source": [
    "# 1) python program to scrape data for “Data Analyst” Job position in “Bangalore” location"
   ]
  },
  {
   "cell_type": "code",
   "execution_count": 1,
   "id": "f303e97c",
   "metadata": {},
   "outputs": [],
   "source": [
    "import selenium \n",
    "from selenium import webdriver\n",
    "import pandas as pd \n",
    "import warnings\n",
    "warnings.filterwarnings(\"ignore\")"
   ]
  },
  {
   "cell_type": "code",
   "execution_count": 2,
   "id": "2fb8dd43",
   "metadata": {},
   "outputs": [],
   "source": [
    "driver=webdriver.Chrome(r'C:/Users/sagar/Downloads/chromedriver_win32 (1)/chromedriver.exe')"
   ]
  },
  {
   "cell_type": "code",
   "execution_count": 3,
   "id": "f7484e16",
   "metadata": {},
   "outputs": [],
   "source": [
    "driver=webdriver.Chrome('chromedriver.exe')"
   ]
  },
  {
   "cell_type": "code",
   "execution_count": 4,
   "id": "d388b1af",
   "metadata": {},
   "outputs": [],
   "source": [
    "url=\"https://www.naukri.com/\"\n",
    "driver.get(url)"
   ]
  },
  {
   "cell_type": "code",
   "execution_count": 5,
   "id": "13fe44d8",
   "metadata": {},
   "outputs": [
    {
     "data": {
      "text/plain": [
       "<selenium.webdriver.remote.webelement.WebElement (session=\"bb5bac1f39eac90d8905fc57248b2f74\", element=\"9c9eb8ac-a0b3-40a4-9593-088c16ebc0f5\")>"
      ]
     },
     "execution_count": 5,
     "metadata": {},
     "output_type": "execute_result"
    }
   ],
   "source": [
    "search_job=driver.find_element_by_class_name(\"suggestor-input  \")\n",
    "search_job"
   ]
  },
  {
   "cell_type": "code",
   "execution_count": 6,
   "id": "4e3a93fa",
   "metadata": {},
   "outputs": [],
   "source": [
    "search_job.send_keys(\"Data Analyst\")"
   ]
  },
  {
   "cell_type": "code",
   "execution_count": 7,
   "id": "ba074945",
   "metadata": {},
   "outputs": [
    {
     "data": {
      "text/plain": [
       "<selenium.webdriver.remote.webelement.WebElement (session=\"bb5bac1f39eac90d8905fc57248b2f74\", element=\"2280ac48-6b02-4320-8016-4b003974da6c\")>"
      ]
     },
     "execution_count": 7,
     "metadata": {},
     "output_type": "execute_result"
    }
   ],
   "source": [
    "search_loc=driver.find_element_by_xpath('/html/body/div/div[2]/div[3]/div/div/div[3]/div/div/div/input')\n",
    "search_loc"
   ]
  },
  {
   "cell_type": "code",
   "execution_count": 8,
   "id": "00893494",
   "metadata": {},
   "outputs": [],
   "source": [
    "search_loc.send_keys('Bangalore')"
   ]
  },
  {
   "cell_type": "code",
   "execution_count": 9,
   "id": "1e6e3f37",
   "metadata": {},
   "outputs": [
    {
     "data": {
      "text/plain": [
       "<selenium.webdriver.remote.webelement.WebElement (session=\"bb5bac1f39eac90d8905fc57248b2f74\", element=\"32c77618-e229-4730-b3b5-0b1790f45075\")>"
      ]
     },
     "execution_count": 9,
     "metadata": {},
     "output_type": "execute_result"
    }
   ],
   "source": [
    "search_btn=driver.find_element_by_xpath('/html/body/div/div[2]/div[3]/div/div/div[6]')\n",
    "search_btn"
   ]
  },
  {
   "cell_type": "code",
   "execution_count": 10,
   "id": "ea5e7871",
   "metadata": {},
   "outputs": [],
   "source": [
    "search_btn.click()"
   ]
  },
  {
   "cell_type": "code",
   "execution_count": 11,
   "id": "89254836",
   "metadata": {},
   "outputs": [
    {
     "data": {
      "text/plain": [
       "<selenium.webdriver.remote.webelement.WebElement (session=\"bb5bac1f39eac90d8905fc57248b2f74\", element=\"ca3d2117-f9a3-41fe-aa85-105dfcd89a9c\")>"
      ]
     },
     "execution_count": 11,
     "metadata": {},
     "output_type": "execute_result"
    }
   ],
   "source": [
    "salary_check=driver.find_element_by_xpath('/html/body/div[1]/div[3]/div[2]/section[1]/div[2]/div[4]/div[2]/div[1]/label/i')\n",
    "salary_check"
   ]
  },
  {
   "cell_type": "code",
   "execution_count": 12,
   "id": "e782ea56",
   "metadata": {},
   "outputs": [],
   "source": [
    "salary_check.click()"
   ]
  },
  {
   "cell_type": "code",
   "execution_count": 13,
   "id": "3ed06e09",
   "metadata": {},
   "outputs": [
    {
     "data": {
      "text/plain": [
       "[<selenium.webdriver.remote.webelement.WebElement (session=\"bb5bac1f39eac90d8905fc57248b2f74\", element=\"388c0608-d701-4301-94f0-794c48b1f94a\")>,\n",
       " <selenium.webdriver.remote.webelement.WebElement (session=\"bb5bac1f39eac90d8905fc57248b2f74\", element=\"e7798d78-2a07-4a9f-8c86-34b992e03d40\")>,\n",
       " <selenium.webdriver.remote.webelement.WebElement (session=\"bb5bac1f39eac90d8905fc57248b2f74\", element=\"70250f16-876a-4e5d-b70f-1db499094bcf\")>,\n",
       " <selenium.webdriver.remote.webelement.WebElement (session=\"bb5bac1f39eac90d8905fc57248b2f74\", element=\"19ea664b-a70c-4a25-a5a5-d871f875ec44\")>,\n",
       " <selenium.webdriver.remote.webelement.WebElement (session=\"bb5bac1f39eac90d8905fc57248b2f74\", element=\"6a76f3eb-0dab-4f50-8325-f351c080b5fb\")>,\n",
       " <selenium.webdriver.remote.webelement.WebElement (session=\"bb5bac1f39eac90d8905fc57248b2f74\", element=\"966c00be-6761-4fed-a642-39073e3524a5\")>,\n",
       " <selenium.webdriver.remote.webelement.WebElement (session=\"bb5bac1f39eac90d8905fc57248b2f74\", element=\"66936ad7-a5dd-45df-b2ae-1e45e7a57992\")>,\n",
       " <selenium.webdriver.remote.webelement.WebElement (session=\"bb5bac1f39eac90d8905fc57248b2f74\", element=\"a78b8211-4ad3-4167-b290-abbbb5c57427\")>,\n",
       " <selenium.webdriver.remote.webelement.WebElement (session=\"bb5bac1f39eac90d8905fc57248b2f74\", element=\"750dbbd8-106f-4864-b585-ef6b47771578\")>,\n",
       " <selenium.webdriver.remote.webelement.WebElement (session=\"bb5bac1f39eac90d8905fc57248b2f74\", element=\"63877f5e-3d6f-4e2f-bf85-3945a8115708\")>]"
      ]
     },
     "execution_count": 13,
     "metadata": {},
     "output_type": "execute_result"
    }
   ],
   "source": [
    "title_tags = driver.find_elements_by_xpath('//a[@class=\"title fw500 ellipsis\"]')\n",
    "len(title_tags)\n",
    "title_tags[0:10]\n"
   ]
  },
  {
   "cell_type": "code",
   "execution_count": 14,
   "id": "7229ce4b",
   "metadata": {},
   "outputs": [
    {
     "data": {
      "text/plain": [
       "['Data Coordinator | Data Analyst | MS Excel | Typing | Bangalore',\n",
       " 'Looking For Data Analyst',\n",
       " 'software developer & Testing / Business Analyst/Data Analyst/Python.',\n",
       " 'Data Analyst || Advance Excel || D Limit || Concatenate',\n",
       " 'Data Analyst',\n",
       " 'Data Operations Analyst',\n",
       " 'Computer Operator | Computer Skills |Computer Data Analyst | Part-Time',\n",
       " 'Data Analyst Work FROM Home',\n",
       " 'Hiring For Data Analyst from 1 yr of exp in Bangalore Location',\n",
       " 'Video Data Analyst']"
      ]
     },
     "execution_count": 14,
     "metadata": {},
     "output_type": "execute_result"
    }
   ],
   "source": [
    "job_titles=[]\n",
    "\n",
    "for i in title_tags:\n",
    "    job_titles.append(i.text)\n",
    "len(job_titles)\n",
    "job_titles[0:10]"
   ]
  },
  {
   "cell_type": "code",
   "execution_count": 16,
   "id": "72e9eba8",
   "metadata": {},
   "outputs": [
    {
     "data": {
      "text/plain": [
       "[<selenium.webdriver.remote.webelement.WebElement (session=\"bb5bac1f39eac90d8905fc57248b2f74\", element=\"8aea0a88-988a-44d4-9ea5-509375391199\")>,\n",
       " <selenium.webdriver.remote.webelement.WebElement (session=\"bb5bac1f39eac90d8905fc57248b2f74\", element=\"9b645679-74c0-4606-8a11-0585e32ac7c4\")>,\n",
       " <selenium.webdriver.remote.webelement.WebElement (session=\"bb5bac1f39eac90d8905fc57248b2f74\", element=\"b9e02852-c369-4e66-8e16-d3e0888d5dfe\")>,\n",
       " <selenium.webdriver.remote.webelement.WebElement (session=\"bb5bac1f39eac90d8905fc57248b2f74\", element=\"c61d40a6-c97d-47c4-b728-146ebaaa3950\")>,\n",
       " <selenium.webdriver.remote.webelement.WebElement (session=\"bb5bac1f39eac90d8905fc57248b2f74\", element=\"e4456424-a4d5-4d0f-803b-41555a388547\")>,\n",
       " <selenium.webdriver.remote.webelement.WebElement (session=\"bb5bac1f39eac90d8905fc57248b2f74\", element=\"945835f4-aa91-4a97-8a9a-27a9cffcc426\")>,\n",
       " <selenium.webdriver.remote.webelement.WebElement (session=\"bb5bac1f39eac90d8905fc57248b2f74\", element=\"d5d3062e-66aa-4ad6-8c29-23489607cd2c\")>,\n",
       " <selenium.webdriver.remote.webelement.WebElement (session=\"bb5bac1f39eac90d8905fc57248b2f74\", element=\"f2dc511c-e5fd-46b1-8aee-0b8e815d452b\")>,\n",
       " <selenium.webdriver.remote.webelement.WebElement (session=\"bb5bac1f39eac90d8905fc57248b2f74\", element=\"052c0862-4748-4321-b81a-749f68256cc9\")>,\n",
       " <selenium.webdriver.remote.webelement.WebElement (session=\"bb5bac1f39eac90d8905fc57248b2f74\", element=\"8f286548-f51f-421b-8efc-a13a8d91667a\")>]"
      ]
     },
     "execution_count": 16,
     "metadata": {},
     "output_type": "execute_result"
    }
   ],
   "source": [
    "company_tags= driver.find_elements_by_xpath('//a[@class=\"subTitle ellipsis fleft\"]')\n",
    "len(company_tags)\n",
    "company_tags[0:10]"
   ]
  },
  {
   "cell_type": "code",
   "execution_count": 19,
   "id": "dd458314",
   "metadata": {},
   "outputs": [
    {
     "data": {
      "text/plain": [
       "['Inspiration Manpower Consultancy Pvt. Ltd.',\n",
       " 'Trellance',\n",
       " 'SECRET TECHNOLOGIES INDIA VMS GROUP',\n",
       " 'Inspiration Manpower Consultancy Pvt. Ltd.',\n",
       " 'Capillary Technologies',\n",
       " 'epiFi Technologies',\n",
       " 'D2 Retro',\n",
       " 'Fine Homes and Interior',\n",
       " 'PROMANTUS INDIA PRIVATE LIMITED',\n",
       " 'Arivon Technologies']"
      ]
     },
     "execution_count": 19,
     "metadata": {},
     "output_type": "execute_result"
    }
   ],
   "source": [
    "company_titles=[]\n",
    "\n",
    "for i in company_tags:\n",
    "    company_titles.append(i.text)\n",
    "len(company_titles)\n",
    "company_titles[0:10]\n"
   ]
  },
  {
   "cell_type": "code",
   "execution_count": 41,
   "id": "b51aea91",
   "metadata": {},
   "outputs": [
    {
     "data": {
      "text/plain": [
       "[<selenium.webdriver.remote.webelement.WebElement (session=\"bb5bac1f39eac90d8905fc57248b2f74\", element=\"317f4c34-a257-42a6-b778-b029e341787e\")>,\n",
       " <selenium.webdriver.remote.webelement.WebElement (session=\"bb5bac1f39eac90d8905fc57248b2f74\", element=\"c2611098-226e-4ccd-85ac-67ee26d6ce7f\")>,\n",
       " <selenium.webdriver.remote.webelement.WebElement (session=\"bb5bac1f39eac90d8905fc57248b2f74\", element=\"5af3ec24-db5d-4599-a45b-7fda329eb615\")>,\n",
       " <selenium.webdriver.remote.webelement.WebElement (session=\"bb5bac1f39eac90d8905fc57248b2f74\", element=\"d76fbb8f-6e36-425f-a401-2926879b6473\")>,\n",
       " <selenium.webdriver.remote.webelement.WebElement (session=\"bb5bac1f39eac90d8905fc57248b2f74\", element=\"52808f7b-6067-4ce9-8b32-e0c5087e9761\")>,\n",
       " <selenium.webdriver.remote.webelement.WebElement (session=\"bb5bac1f39eac90d8905fc57248b2f74\", element=\"3e8e40b7-2c57-4207-a18e-b3835afd9735\")>,\n",
       " <selenium.webdriver.remote.webelement.WebElement (session=\"bb5bac1f39eac90d8905fc57248b2f74\", element=\"6ade7b85-4075-4b39-9745-e924c2506fc4\")>,\n",
       " <selenium.webdriver.remote.webelement.WebElement (session=\"bb5bac1f39eac90d8905fc57248b2f74\", element=\"d4c5be29-5749-4c31-9c10-2c9d482c816f\")>,\n",
       " <selenium.webdriver.remote.webelement.WebElement (session=\"bb5bac1f39eac90d8905fc57248b2f74\", element=\"b4220bef-91c6-4f2a-9e33-71013c80885b\")>,\n",
       " <selenium.webdriver.remote.webelement.WebElement (session=\"bb5bac1f39eac90d8905fc57248b2f74\", element=\"a8a8740c-3b2d-419d-895f-a171a9cd3d77\")>]"
      ]
     },
     "execution_count": 41,
     "metadata": {},
     "output_type": "execute_result"
    }
   ],
   "source": [
    "salary_tags= driver.find_elements_by_xpath('//li[@class=\"fleft grey-text br2 placeHolderLi salary\"]')\n",
    "len(salary_tags)\n",
    "salary_tags[0:10]\n"
   ]
  },
  {
   "cell_type": "code",
   "execution_count": 43,
   "id": "f249ae27",
   "metadata": {},
   "outputs": [
    {
     "data": {
      "text/plain": [
       "['1,00,000 - 2,50,000 PA.',\n",
       " '2,00,000 - 7,00,000 PA.',\n",
       " '2,00,000 - 6,50,000 PA.',\n",
       " '1,00,000 - 1,50,000 PA.',\n",
       " 'Not disclosed',\n",
       " 'Not disclosed',\n",
       " '1,25,000 - 2,00,000 PA.',\n",
       " '2,00,000 - 4,75,000 PA.',\n",
       " 'Not disclosed',\n",
       " '1,50,000 - 3,00,000 PA.']"
      ]
     },
     "execution_count": 43,
     "metadata": {},
     "output_type": "execute_result"
    }
   ],
   "source": [
    "salary_titles=[]\n",
    "\n",
    "for i in salary_tags:\n",
    "    salary_titles.append(i.text)\n",
    "len(salary_titles)\n",
    "salary_titles[0:10]"
   ]
  },
  {
   "cell_type": "code",
   "execution_count": 45,
   "id": "ff3ae79a",
   "metadata": {},
   "outputs": [
    {
     "data": {
      "text/plain": [
       "[<selenium.webdriver.remote.webelement.WebElement (session=\"bb5bac1f39eac90d8905fc57248b2f74\", element=\"0e71386b-05f8-47c1-83e8-c1dee25ecd93\")>,\n",
       " <selenium.webdriver.remote.webelement.WebElement (session=\"bb5bac1f39eac90d8905fc57248b2f74\", element=\"71b9df6d-2023-4193-9b0c-64ee5c77b606\")>,\n",
       " <selenium.webdriver.remote.webelement.WebElement (session=\"bb5bac1f39eac90d8905fc57248b2f74\", element=\"075603c6-bf9e-4944-b69e-3cb535cbc4c4\")>,\n",
       " <selenium.webdriver.remote.webelement.WebElement (session=\"bb5bac1f39eac90d8905fc57248b2f74\", element=\"f665b140-12f1-41bc-b0bf-e2284870999e\")>,\n",
       " <selenium.webdriver.remote.webelement.WebElement (session=\"bb5bac1f39eac90d8905fc57248b2f74\", element=\"fd4b4f30-a3d4-410d-9e8a-9b6e9d02af59\")>,\n",
       " <selenium.webdriver.remote.webelement.WebElement (session=\"bb5bac1f39eac90d8905fc57248b2f74\", element=\"db5dd350-eff2-4992-b2c0-c13db53bb93e\")>,\n",
       " <selenium.webdriver.remote.webelement.WebElement (session=\"bb5bac1f39eac90d8905fc57248b2f74\", element=\"6d24868f-8c3f-4089-9f61-c433e6031964\")>,\n",
       " <selenium.webdriver.remote.webelement.WebElement (session=\"bb5bac1f39eac90d8905fc57248b2f74\", element=\"8344c8c9-6683-42ef-ba0c-3f2ef6e3f1a1\")>,\n",
       " <selenium.webdriver.remote.webelement.WebElement (session=\"bb5bac1f39eac90d8905fc57248b2f74\", element=\"6fdb11fb-1f4c-44ba-b77a-7a186ae34c79\")>,\n",
       " <selenium.webdriver.remote.webelement.WebElement (session=\"bb5bac1f39eac90d8905fc57248b2f74\", element=\"7be334ec-9035-4163-a724-6568027456a0\")>]"
      ]
     },
     "execution_count": 45,
     "metadata": {},
     "output_type": "execute_result"
    }
   ],
   "source": [
    "locn_tags= driver.find_elements_by_xpath('//li[@class=\"fleft grey-text br2 placeHolderLi location\"]')\n",
    "len(locn_tags)\n",
    "locn_tags[0:10]\n"
   ]
  },
  {
   "cell_type": "code",
   "execution_count": 46,
   "id": "ca494c34",
   "metadata": {},
   "outputs": [
    {
     "data": {
      "text/plain": [
       "['Bangalore/Bengaluru(Sadashiva Nagar)',\n",
       " 'Ahmedabad, Bangalore/Bengaluru',\n",
       " 'Pune, Bangalore/Bengaluru(Shivaji Nagar), Mumbai (All Areas)\\n(WFH during Covid)',\n",
       " 'Bangalore/Bengaluru',\n",
       " 'Bangalore/Bengaluru',\n",
       " 'Bangalore/Bengaluru',\n",
       " 'Hyderabad/Secunderabad, Chennai, Bangalore/Bengaluru\\n(WFH during Covid)',\n",
       " 'Bangalore/Bengaluru\\n(WFH during Covid)',\n",
       " 'Chennai, Bangalore/Bengaluru',\n",
       " 'Bangalore/Bengaluru']"
      ]
     },
     "execution_count": 46,
     "metadata": {},
     "output_type": "execute_result"
    }
   ],
   "source": [
    "locn_titles=[]\n",
    "\n",
    "for i in locn_tags:\n",
    "    locn_titles.append(i.text)\n",
    "len(locn_titles)\n",
    "locn_titles[0:10]"
   ]
  },
  {
   "cell_type": "code",
   "execution_count": 47,
   "id": "c0fcd360",
   "metadata": {},
   "outputs": [
    {
     "data": {
      "text/plain": [
       "(20, 20, 20, 20)"
      ]
     },
     "execution_count": 47,
     "metadata": {},
     "output_type": "execute_result"
    }
   ],
   "source": [
    "len(job_titles),len(company_tags),len(salary_tags),len(locn_tags)"
   ]
  },
  {
   "cell_type": "code",
   "execution_count": 49,
   "id": "adc6810c",
   "metadata": {},
   "outputs": [
    {
     "data": {
      "text/html": [
       "<div>\n",
       "<style scoped>\n",
       "    .dataframe tbody tr th:only-of-type {\n",
       "        vertical-align: middle;\n",
       "    }\n",
       "\n",
       "    .dataframe tbody tr th {\n",
       "        vertical-align: top;\n",
       "    }\n",
       "\n",
       "    .dataframe thead th {\n",
       "        text-align: right;\n",
       "    }\n",
       "</style>\n",
       "<table border=\"1\" class=\"dataframe\">\n",
       "  <thead>\n",
       "    <tr style=\"text-align: right;\">\n",
       "      <th></th>\n",
       "      <th>Job Title</th>\n",
       "      <th>Company</th>\n",
       "      <th>salary</th>\n",
       "      <th>LOcation</th>\n",
       "    </tr>\n",
       "  </thead>\n",
       "  <tbody>\n",
       "    <tr>\n",
       "      <th>0</th>\n",
       "      <td>Data Coordinator | Data Analyst | MS Excel | T...</td>\n",
       "      <td>Inspiration Manpower Consultancy Pvt. Ltd.</td>\n",
       "      <td>1,00,000 - 2,50,000 PA.</td>\n",
       "      <td>Bangalore/Bengaluru(Sadashiva Nagar)</td>\n",
       "    </tr>\n",
       "    <tr>\n",
       "      <th>1</th>\n",
       "      <td>Looking For Data Analyst</td>\n",
       "      <td>Trellance</td>\n",
       "      <td>2,00,000 - 7,00,000 PA.</td>\n",
       "      <td>Ahmedabad, Bangalore/Bengaluru</td>\n",
       "    </tr>\n",
       "    <tr>\n",
       "      <th>2</th>\n",
       "      <td>software developer &amp; Testing / Business Analys...</td>\n",
       "      <td>SECRET TECHNOLOGIES INDIA VMS GROUP</td>\n",
       "      <td>2,00,000 - 6,50,000 PA.</td>\n",
       "      <td>Pune, Bangalore/Bengaluru(Shivaji Nagar), Mumb...</td>\n",
       "    </tr>\n",
       "    <tr>\n",
       "      <th>3</th>\n",
       "      <td>Data Analyst || Advance Excel || D Limit || Co...</td>\n",
       "      <td>Inspiration Manpower Consultancy Pvt. Ltd.</td>\n",
       "      <td>1,00,000 - 1,50,000 PA.</td>\n",
       "      <td>Bangalore/Bengaluru</td>\n",
       "    </tr>\n",
       "    <tr>\n",
       "      <th>4</th>\n",
       "      <td>Data Analyst</td>\n",
       "      <td>Capillary Technologies</td>\n",
       "      <td>Not disclosed</td>\n",
       "      <td>Bangalore/Bengaluru</td>\n",
       "    </tr>\n",
       "    <tr>\n",
       "      <th>5</th>\n",
       "      <td>Data Operations Analyst</td>\n",
       "      <td>epiFi Technologies</td>\n",
       "      <td>Not disclosed</td>\n",
       "      <td>Bangalore/Bengaluru</td>\n",
       "    </tr>\n",
       "    <tr>\n",
       "      <th>6</th>\n",
       "      <td>Computer Operator | Computer Skills |Computer ...</td>\n",
       "      <td>D2 Retro</td>\n",
       "      <td>1,25,000 - 2,00,000 PA.</td>\n",
       "      <td>Hyderabad/Secunderabad, Chennai, Bangalore/Ben...</td>\n",
       "    </tr>\n",
       "    <tr>\n",
       "      <th>7</th>\n",
       "      <td>Data Analyst Work FROM Home</td>\n",
       "      <td>Fine Homes and Interior</td>\n",
       "      <td>2,00,000 - 4,75,000 PA.</td>\n",
       "      <td>Bangalore/Bengaluru\\n(WFH during Covid)</td>\n",
       "    </tr>\n",
       "    <tr>\n",
       "      <th>8</th>\n",
       "      <td>Hiring For Data Analyst from 1 yr of exp in Ba...</td>\n",
       "      <td>PROMANTUS INDIA PRIVATE LIMITED</td>\n",
       "      <td>Not disclosed</td>\n",
       "      <td>Chennai, Bangalore/Bengaluru</td>\n",
       "    </tr>\n",
       "    <tr>\n",
       "      <th>9</th>\n",
       "      <td>Video Data Analyst</td>\n",
       "      <td>Arivon Technologies</td>\n",
       "      <td>1,50,000 - 3,00,000 PA.</td>\n",
       "      <td>Bangalore/Bengaluru</td>\n",
       "    </tr>\n",
       "    <tr>\n",
       "      <th>10</th>\n",
       "      <td>Senior Marketing Data Analyst</td>\n",
       "      <td>Tide Software</td>\n",
       "      <td>Not disclosed</td>\n",
       "      <td>Bangalore/Bengaluru</td>\n",
       "    </tr>\n",
       "    <tr>\n",
       "      <th>11</th>\n",
       "      <td>Data Research Analyst</td>\n",
       "      <td>FUTURES AND CAREERS</td>\n",
       "      <td>Not disclosed</td>\n",
       "      <td>Bangalore/Bengaluru</td>\n",
       "    </tr>\n",
       "    <tr>\n",
       "      <th>12</th>\n",
       "      <td>Data Analyst | MIS Executive | Operations Exec...</td>\n",
       "      <td>Sanctus HR</td>\n",
       "      <td>Not disclosed</td>\n",
       "      <td>Bangalore/Bengaluru(Electronic City +4)</td>\n",
       "    </tr>\n",
       "    <tr>\n",
       "      <th>13</th>\n",
       "      <td>Data Analyst Internship</td>\n",
       "      <td>Heart It Out</td>\n",
       "      <td>Not disclosed</td>\n",
       "      <td>Bangalore/Bengaluru</td>\n",
       "    </tr>\n",
       "    <tr>\n",
       "      <th>14</th>\n",
       "      <td>Data Analyst</td>\n",
       "      <td>St. John’s Research Institute</td>\n",
       "      <td>Not disclosed</td>\n",
       "      <td>Bengaluru</td>\n",
       "    </tr>\n",
       "    <tr>\n",
       "      <th>15</th>\n",
       "      <td>Data Analyst</td>\n",
       "      <td>flocareer.com</td>\n",
       "      <td>Not disclosed</td>\n",
       "      <td>Bangalore/Bengaluru</td>\n",
       "    </tr>\n",
       "    <tr>\n",
       "      <th>16</th>\n",
       "      <td>Financial Data Analyst</td>\n",
       "      <td>Moody's</td>\n",
       "      <td>Not disclosed</td>\n",
       "      <td>Bangalore/Bengaluru</td>\n",
       "    </tr>\n",
       "    <tr>\n",
       "      <th>17</th>\n",
       "      <td>Data Analyst</td>\n",
       "      <td>Aldius Consulting Services Pvt Ltd (Paramantra)</td>\n",
       "      <td>2,00,000 - 3,50,000 PA.</td>\n",
       "      <td>Bangalore/Bengaluru</td>\n",
       "    </tr>\n",
       "    <tr>\n",
       "      <th>18</th>\n",
       "      <td>DA&amp;S - Data Science analyst</td>\n",
       "      <td>Accenture</td>\n",
       "      <td>Not disclosed</td>\n",
       "      <td>Bangalore/Bengaluru</td>\n",
       "    </tr>\n",
       "    <tr>\n",
       "      <th>19</th>\n",
       "      <td>Data Analyst , Territory Operations</td>\n",
       "      <td>Twilio</td>\n",
       "      <td>Not disclosed</td>\n",
       "      <td>Bangalore/Bengaluru</td>\n",
       "    </tr>\n",
       "  </tbody>\n",
       "</table>\n",
       "</div>"
      ],
      "text/plain": [
       "                                            Job Title  \\\n",
       "0   Data Coordinator | Data Analyst | MS Excel | T...   \n",
       "1                            Looking For Data Analyst   \n",
       "2   software developer & Testing / Business Analys...   \n",
       "3   Data Analyst || Advance Excel || D Limit || Co...   \n",
       "4                                        Data Analyst   \n",
       "5                             Data Operations Analyst   \n",
       "6   Computer Operator | Computer Skills |Computer ...   \n",
       "7                         Data Analyst Work FROM Home   \n",
       "8   Hiring For Data Analyst from 1 yr of exp in Ba...   \n",
       "9                                  Video Data Analyst   \n",
       "10                      Senior Marketing Data Analyst   \n",
       "11                              Data Research Analyst   \n",
       "12  Data Analyst | MIS Executive | Operations Exec...   \n",
       "13                            Data Analyst Internship   \n",
       "14                                       Data Analyst   \n",
       "15                                       Data Analyst   \n",
       "16                             Financial Data Analyst   \n",
       "17                                       Data Analyst   \n",
       "18                        DA&S - Data Science analyst   \n",
       "19                Data Analyst , Territory Operations   \n",
       "\n",
       "                                            Company                   salary  \\\n",
       "0        Inspiration Manpower Consultancy Pvt. Ltd.  1,00,000 - 2,50,000 PA.   \n",
       "1                                         Trellance  2,00,000 - 7,00,000 PA.   \n",
       "2               SECRET TECHNOLOGIES INDIA VMS GROUP  2,00,000 - 6,50,000 PA.   \n",
       "3        Inspiration Manpower Consultancy Pvt. Ltd.  1,00,000 - 1,50,000 PA.   \n",
       "4                            Capillary Technologies            Not disclosed   \n",
       "5                                epiFi Technologies            Not disclosed   \n",
       "6                                          D2 Retro  1,25,000 - 2,00,000 PA.   \n",
       "7                           Fine Homes and Interior  2,00,000 - 4,75,000 PA.   \n",
       "8                   PROMANTUS INDIA PRIVATE LIMITED            Not disclosed   \n",
       "9                               Arivon Technologies  1,50,000 - 3,00,000 PA.   \n",
       "10                                    Tide Software            Not disclosed   \n",
       "11                              FUTURES AND CAREERS            Not disclosed   \n",
       "12                                       Sanctus HR            Not disclosed   \n",
       "13                                     Heart It Out            Not disclosed   \n",
       "14                    St. John’s Research Institute            Not disclosed   \n",
       "15                                    flocareer.com            Not disclosed   \n",
       "16                                          Moody's            Not disclosed   \n",
       "17  Aldius Consulting Services Pvt Ltd (Paramantra)  2,00,000 - 3,50,000 PA.   \n",
       "18                                        Accenture            Not disclosed   \n",
       "19                                           Twilio            Not disclosed   \n",
       "\n",
       "                                             LOcation  \n",
       "0                Bangalore/Bengaluru(Sadashiva Nagar)  \n",
       "1                      Ahmedabad, Bangalore/Bengaluru  \n",
       "2   Pune, Bangalore/Bengaluru(Shivaji Nagar), Mumb...  \n",
       "3                                 Bangalore/Bengaluru  \n",
       "4                                 Bangalore/Bengaluru  \n",
       "5                                 Bangalore/Bengaluru  \n",
       "6   Hyderabad/Secunderabad, Chennai, Bangalore/Ben...  \n",
       "7             Bangalore/Bengaluru\\n(WFH during Covid)  \n",
       "8                        Chennai, Bangalore/Bengaluru  \n",
       "9                                 Bangalore/Bengaluru  \n",
       "10                                Bangalore/Bengaluru  \n",
       "11                                Bangalore/Bengaluru  \n",
       "12            Bangalore/Bengaluru(Electronic City +4)  \n",
       "13                                Bangalore/Bengaluru  \n",
       "14                                          Bengaluru  \n",
       "15                                Bangalore/Bengaluru  \n",
       "16                                Bangalore/Bengaluru  \n",
       "17                                Bangalore/Bengaluru  \n",
       "18                                Bangalore/Bengaluru  \n",
       "19                                Bangalore/Bengaluru  "
      ]
     },
     "execution_count": 49,
     "metadata": {},
     "output_type": "execute_result"
    }
   ],
   "source": [
    "jobs=pd.DataFrame()\n",
    "jobs['Job Title']= job_titles\n",
    "jobs['Company']=company_titles\n",
    "jobs['salary']=salary_titles\n",
    "jobs['LOcation']=locn_titles\n",
    "jobs"
   ]
  },
  {
   "cell_type": "markdown",
   "id": "440d0e8d",
   "metadata": {},
   "source": [
    "# 2): Write a python program to scrape data for “Data Scientist” Job position in “Bangalore” location. You\n",
    "have to scrape the job-title, job-location,"
   ]
  },
  {
   "cell_type": "code",
   "execution_count": 129,
   "id": "8bc8e619",
   "metadata": {},
   "outputs": [],
   "source": [
    "import selenium \n",
    "from selenium import webdriver\n",
    "import pandas as pd \n",
    "import warnings\n",
    "warnings.filterwarnings(\"ignore\")"
   ]
  },
  {
   "cell_type": "code",
   "execution_count": 130,
   "id": "0acb9792",
   "metadata": {},
   "outputs": [],
   "source": [
    "driver=webdriver.Chrome(r'C:/Users/sagar/Downloads/chromedriver_win32 (1)/chromedriver.exe')"
   ]
  },
  {
   "cell_type": "code",
   "execution_count": 131,
   "id": "dd301ffa",
   "metadata": {},
   "outputs": [],
   "source": [
    "driver=webdriver.Chrome('chromedriver.exe')"
   ]
  },
  {
   "cell_type": "code",
   "execution_count": 132,
   "id": "2842480c",
   "metadata": {},
   "outputs": [],
   "source": [
    "url=\"https://www.naukri.com/\"\n",
    "driver.get(url)"
   ]
  },
  {
   "cell_type": "code",
   "execution_count": 133,
   "id": "2fc3dd09",
   "metadata": {},
   "outputs": [
    {
     "data": {
      "text/plain": [
       "<selenium.webdriver.remote.webelement.WebElement (session=\"4d8597616bb634d9df5446f88523407f\", element=\"7c74fe6a-8899-40d3-91a3-30989c52566b\")>"
      ]
     },
     "execution_count": 133,
     "metadata": {},
     "output_type": "execute_result"
    }
   ],
   "source": [
    "search_job=driver.find_element_by_class_name(\"suggestor-input  \")\n",
    "search_job"
   ]
  },
  {
   "cell_type": "code",
   "execution_count": 134,
   "id": "c3b26208",
   "metadata": {},
   "outputs": [],
   "source": [
    "search_job.send_keys(\"Data Scientist\")"
   ]
  },
  {
   "cell_type": "code",
   "execution_count": 135,
   "id": "8483496c",
   "metadata": {},
   "outputs": [
    {
     "data": {
      "text/plain": [
       "<selenium.webdriver.remote.webelement.WebElement (session=\"4d8597616bb634d9df5446f88523407f\", element=\"351c2c7c-acb3-48ae-a8e9-7ccd0803e82f\")>"
      ]
     },
     "execution_count": 135,
     "metadata": {},
     "output_type": "execute_result"
    }
   ],
   "source": [
    "search_loc=driver.find_element_by_xpath('/html/body/div/div[2]/div[3]/div/div/div[3]/div/div/div/input')\n",
    "search_loc"
   ]
  },
  {
   "cell_type": "code",
   "execution_count": 136,
   "id": "e8cc560d",
   "metadata": {},
   "outputs": [],
   "source": [
    "search_loc.send_keys('Bangalore')"
   ]
  },
  {
   "cell_type": "code",
   "execution_count": 137,
   "id": "b193b299",
   "metadata": {},
   "outputs": [
    {
     "data": {
      "text/plain": [
       "<selenium.webdriver.remote.webelement.WebElement (session=\"4d8597616bb634d9df5446f88523407f\", element=\"4c136138-7e61-49c3-be1e-454203811121\")>"
      ]
     },
     "execution_count": 137,
     "metadata": {},
     "output_type": "execute_result"
    }
   ],
   "source": [
    "search_btn=driver.find_element_by_xpath('/html/body/div/div[2]/div[3]/div/div[1]/div[6]')\n",
    "search_btn"
   ]
  },
  {
   "cell_type": "code",
   "execution_count": 138,
   "id": "f702404f",
   "metadata": {},
   "outputs": [],
   "source": [
    "search_btn.click()"
   ]
  },
  {
   "cell_type": "code",
   "execution_count": 139,
   "id": "96231e16",
   "metadata": {},
   "outputs": [
    {
     "data": {
      "text/plain": [
       "<selenium.webdriver.remote.webelement.WebElement (session=\"4d8597616bb634d9df5446f88523407f\", element=\"82b87bd8-a6d6-4b7e-951a-aef7a96b641b\")>"
      ]
     },
     "execution_count": 139,
     "metadata": {},
     "output_type": "execute_result"
    }
   ],
   "source": [
    "salary_check=driver.find_element_by_xpath('/html/body/div[1]/div[3]/div[2]/section[1]/div[2]/div[4]/div[2]/div[1]/label/i')\n",
    "salary_check"
   ]
  },
  {
   "cell_type": "code",
   "execution_count": 140,
   "id": "c742ca58",
   "metadata": {},
   "outputs": [],
   "source": [
    "salary_check.click()"
   ]
  },
  {
   "cell_type": "markdown",
   "id": "48e06247",
   "metadata": {},
   "source": [
    "# extracting job titles"
   ]
  },
  {
   "cell_type": "code",
   "execution_count": 142,
   "id": "166766d2",
   "metadata": {},
   "outputs": [
    {
     "data": {
      "text/plain": [
       "[<selenium.webdriver.remote.webelement.WebElement (session=\"4d8597616bb634d9df5446f88523407f\", element=\"e07078e2-70f2-4fb1-9de9-388145c27add\")>,\n",
       " <selenium.webdriver.remote.webelement.WebElement (session=\"4d8597616bb634d9df5446f88523407f\", element=\"d86e35d2-ff42-485a-82dc-3bd6f9b0b088\")>,\n",
       " <selenium.webdriver.remote.webelement.WebElement (session=\"4d8597616bb634d9df5446f88523407f\", element=\"50c1e4f3-bf80-4728-b9cd-ea3c639666d4\")>,\n",
       " <selenium.webdriver.remote.webelement.WebElement (session=\"4d8597616bb634d9df5446f88523407f\", element=\"c1eff8a0-2169-453c-9dc7-4f00c2e28c72\")>,\n",
       " <selenium.webdriver.remote.webelement.WebElement (session=\"4d8597616bb634d9df5446f88523407f\", element=\"8ea72afd-cee9-4325-80a2-83d78bf15524\")>,\n",
       " <selenium.webdriver.remote.webelement.WebElement (session=\"4d8597616bb634d9df5446f88523407f\", element=\"8da00c55-b112-47c6-b13e-5fdf2fbb8782\")>,\n",
       " <selenium.webdriver.remote.webelement.WebElement (session=\"4d8597616bb634d9df5446f88523407f\", element=\"821b0e9c-fc88-4da5-9c0a-ac00affb5d88\")>,\n",
       " <selenium.webdriver.remote.webelement.WebElement (session=\"4d8597616bb634d9df5446f88523407f\", element=\"cc558183-55a2-4f33-a72a-1afa95f4f917\")>,\n",
       " <selenium.webdriver.remote.webelement.WebElement (session=\"4d8597616bb634d9df5446f88523407f\", element=\"fdb14a44-b251-4103-96cf-29b6246143e8\")>,\n",
       " <selenium.webdriver.remote.webelement.WebElement (session=\"4d8597616bb634d9df5446f88523407f\", element=\"cbf1af5b-026b-4074-bc33-b7d2cc7eab81\")>]"
      ]
     },
     "execution_count": 142,
     "metadata": {},
     "output_type": "execute_result"
    }
   ],
   "source": [
    "title_tags = driver.find_elements_by_xpath('//a[@class=\"title fw500 ellipsis\"]')\n",
    "len(title_tags)\n",
    "title_tags[0:10]\n",
    "\n"
   ]
  },
  {
   "cell_type": "code",
   "execution_count": 143,
   "id": "69db0f54",
   "metadata": {},
   "outputs": [
    {
     "data": {
      "text/plain": [
       "['Junior Data Scientist',\n",
       " 'Data Scientist',\n",
       " 'Data Scientist',\n",
       " '1558CRVA-Data Scientist | Bangalore',\n",
       " 'Opportunity For Data Scientist Internship - Bengaluru',\n",
       " 'Data scientist ( WFH )',\n",
       " 'Interested To join permanent position For Data Scientist(Bangalore)',\n",
       " 'Data Scientist - Immediate Joiners only',\n",
       " 'Data Scientist',\n",
       " 'Associate Scientist - Semantic & Data Modeling']"
      ]
     },
     "execution_count": 143,
     "metadata": {},
     "output_type": "execute_result"
    }
   ],
   "source": [
    "job_titles=[]\n",
    "\n",
    "for i in title_tags:\n",
    "    job_titles.append(i.text)\n",
    "len(job_titles)\n",
    "job_titles[0:10]"
   ]
  },
  {
   "cell_type": "code",
   "execution_count": 144,
   "id": "50c23214",
   "metadata": {},
   "outputs": [
    {
     "data": {
      "text/plain": [
       "[<selenium.webdriver.remote.webelement.WebElement (session=\"4d8597616bb634d9df5446f88523407f\", element=\"0fb3fdf1-7f5c-48d3-825e-4747c58d7365\")>,\n",
       " <selenium.webdriver.remote.webelement.WebElement (session=\"4d8597616bb634d9df5446f88523407f\", element=\"1e32aff5-04d9-43ef-aede-c53255323ac8\")>,\n",
       " <selenium.webdriver.remote.webelement.WebElement (session=\"4d8597616bb634d9df5446f88523407f\", element=\"8902d5b7-fa6f-4869-85a6-ae1317193895\")>,\n",
       " <selenium.webdriver.remote.webelement.WebElement (session=\"4d8597616bb634d9df5446f88523407f\", element=\"a3aa47b2-7815-4d0a-9cfb-fcb9f594662e\")>,\n",
       " <selenium.webdriver.remote.webelement.WebElement (session=\"4d8597616bb634d9df5446f88523407f\", element=\"c6f04621-0b36-46d7-aa81-dffa744be357\")>,\n",
       " <selenium.webdriver.remote.webelement.WebElement (session=\"4d8597616bb634d9df5446f88523407f\", element=\"fe755e79-4136-49e4-ad7e-9d1386811203\")>,\n",
       " <selenium.webdriver.remote.webelement.WebElement (session=\"4d8597616bb634d9df5446f88523407f\", element=\"3e75fb7e-60d2-40d2-8d7d-abead79bd1b2\")>,\n",
       " <selenium.webdriver.remote.webelement.WebElement (session=\"4d8597616bb634d9df5446f88523407f\", element=\"1d6677ef-42a1-432d-90e9-c211b498fa53\")>,\n",
       " <selenium.webdriver.remote.webelement.WebElement (session=\"4d8597616bb634d9df5446f88523407f\", element=\"a0df48dc-ee1e-4229-a9da-2de1f85f8463\")>,\n",
       " <selenium.webdriver.remote.webelement.WebElement (session=\"4d8597616bb634d9df5446f88523407f\", element=\"8794cde3-12a7-4b38-b17a-76edc20a35a6\")>]"
      ]
     },
     "execution_count": 144,
     "metadata": {},
     "output_type": "execute_result"
    }
   ],
   "source": [
    "salary_tags= driver.find_elements_by_xpath('//li[@class=\"fleft grey-text br2 placeHolderLi salary\"]')\n",
    "len(salary_tags)\n",
    "salary_tags[0:10]\n"
   ]
  },
  {
   "cell_type": "code",
   "execution_count": 145,
   "id": "bd6ebeac",
   "metadata": {},
   "outputs": [
    {
     "data": {
      "text/plain": [
       "['Not disclosed',\n",
       " 'Not disclosed',\n",
       " 'Not disclosed',\n",
       " '2,00,000 - 5,00,000 PA.',\n",
       " '1,00,000 - 2,00,000 PA.',\n",
       " 'Not disclosed',\n",
       " 'Not disclosed',\n",
       " 'Not disclosed',\n",
       " '2,25,000 - 4,50,000 PA.',\n",
       " 'Not disclosed']"
      ]
     },
     "execution_count": 145,
     "metadata": {},
     "output_type": "execute_result"
    }
   ],
   "source": [
    "salary_titles=[]\n",
    "\n",
    "for i in salary_tags:\n",
    "    salary_titles.append(i.text)\n",
    "len(salary_titles)\n",
    "salary_titles[0:10]"
   ]
  },
  {
   "cell_type": "code",
   "execution_count": 146,
   "id": "49868452",
   "metadata": {},
   "outputs": [
    {
     "data": {
      "text/plain": [
       "[<selenium.webdriver.remote.webelement.WebElement (session=\"4d8597616bb634d9df5446f88523407f\", element=\"8255f91f-aa6b-4301-baa7-77affefe4b2d\")>,\n",
       " <selenium.webdriver.remote.webelement.WebElement (session=\"4d8597616bb634d9df5446f88523407f\", element=\"36cf3465-6b2d-4c9f-8176-db9971de84fd\")>,\n",
       " <selenium.webdriver.remote.webelement.WebElement (session=\"4d8597616bb634d9df5446f88523407f\", element=\"78bec390-ec80-494d-a394-ea772c32a709\")>,\n",
       " <selenium.webdriver.remote.webelement.WebElement (session=\"4d8597616bb634d9df5446f88523407f\", element=\"fffc7e25-6dd9-4d31-a6a7-b1b007a5e4a2\")>,\n",
       " <selenium.webdriver.remote.webelement.WebElement (session=\"4d8597616bb634d9df5446f88523407f\", element=\"7ffc6199-e2c4-4fc8-8b98-5bb544a724b0\")>,\n",
       " <selenium.webdriver.remote.webelement.WebElement (session=\"4d8597616bb634d9df5446f88523407f\", element=\"82103d1d-c149-4a1a-a96e-098621731c0e\")>,\n",
       " <selenium.webdriver.remote.webelement.WebElement (session=\"4d8597616bb634d9df5446f88523407f\", element=\"718f94ef-bfed-4018-94ae-ece6ecc0a4ef\")>,\n",
       " <selenium.webdriver.remote.webelement.WebElement (session=\"4d8597616bb634d9df5446f88523407f\", element=\"34283e02-8688-4f45-8d65-5907a5537f8d\")>,\n",
       " <selenium.webdriver.remote.webelement.WebElement (session=\"4d8597616bb634d9df5446f88523407f\", element=\"b720dd12-178c-490e-9dcd-1d4a48f622a6\")>,\n",
       " <selenium.webdriver.remote.webelement.WebElement (session=\"4d8597616bb634d9df5446f88523407f\", element=\"2e72fb2b-eb3b-4270-917c-a00f4459e84c\")>]"
      ]
     },
     "execution_count": 146,
     "metadata": {},
     "output_type": "execute_result"
    }
   ],
   "source": [
    "company_tags= driver.find_elements_by_xpath('//a[@class=\"subTitle ellipsis fleft\"]')\n",
    "len(company_tags)\n",
    "company_tags[0:10]"
   ]
  },
  {
   "cell_type": "code",
   "execution_count": 147,
   "id": "73ec5a54",
   "metadata": {},
   "outputs": [
    {
     "data": {
      "text/plain": [
       "['Titan',\n",
       " 'Korea Trade Center',\n",
       " 'Genpact',\n",
       " 'RENOUS EXTENSERVE PRIVATE LIMITED',\n",
       " 'Corner Stone Solutions',\n",
       " 'SPM Jobs',\n",
       " 'Pelatro Solutions Pvt. Ltd',\n",
       " 'MLAI Digital',\n",
       " 'Om Consulting',\n",
       " 'Axa XL']"
      ]
     },
     "execution_count": 147,
     "metadata": {},
     "output_type": "execute_result"
    }
   ],
   "source": [
    "company_titles=[]\n",
    "\n",
    "for i in company_tags:\n",
    "    company_titles.append(i.text)\n",
    "len(company_titles)\n",
    "company_titles[0:10]"
   ]
  },
  {
   "cell_type": "code",
   "execution_count": 150,
   "id": "1832ae2a",
   "metadata": {},
   "outputs": [
    {
     "data": {
      "text/plain": [
       "[<selenium.webdriver.remote.webelement.WebElement (session=\"4d8597616bb634d9df5446f88523407f\", element=\"24ecf29a-58c0-4534-aa5f-23dda7d96f2e\")>,\n",
       " <selenium.webdriver.remote.webelement.WebElement (session=\"4d8597616bb634d9df5446f88523407f\", element=\"2bc4b9b4-06f6-4ade-b7af-bcc0673c61a8\")>,\n",
       " <selenium.webdriver.remote.webelement.WebElement (session=\"4d8597616bb634d9df5446f88523407f\", element=\"139592e9-087e-43bd-bf23-32f977dc665c\")>,\n",
       " <selenium.webdriver.remote.webelement.WebElement (session=\"4d8597616bb634d9df5446f88523407f\", element=\"d441c82d-8b16-4c22-aa09-01a80a8e817b\")>,\n",
       " <selenium.webdriver.remote.webelement.WebElement (session=\"4d8597616bb634d9df5446f88523407f\", element=\"43768a83-989a-48fd-ba01-d6b3d32495fc\")>,\n",
       " <selenium.webdriver.remote.webelement.WebElement (session=\"4d8597616bb634d9df5446f88523407f\", element=\"a9e73c11-078b-421c-baf0-445149ee2967\")>,\n",
       " <selenium.webdriver.remote.webelement.WebElement (session=\"4d8597616bb634d9df5446f88523407f\", element=\"2ee48360-4a5b-46d8-9d6f-3a48c5c41bf3\")>,\n",
       " <selenium.webdriver.remote.webelement.WebElement (session=\"4d8597616bb634d9df5446f88523407f\", element=\"1537a264-731d-45b0-b473-a81b5e9ce2b9\")>,\n",
       " <selenium.webdriver.remote.webelement.WebElement (session=\"4d8597616bb634d9df5446f88523407f\", element=\"97025403-bdbc-4bee-925b-fdb66e01fc7c\")>,\n",
       " <selenium.webdriver.remote.webelement.WebElement (session=\"4d8597616bb634d9df5446f88523407f\", element=\"51c17584-4ebe-4c73-acc8-ac2a9c3fd2f9\")>]"
      ]
     },
     "execution_count": 150,
     "metadata": {},
     "output_type": "execute_result"
    }
   ],
   "source": [
    "locn_tags= driver.find_elements_by_xpath('//li[@class=\"fleft grey-text br2 placeHolderLi location\"]')\n",
    "len(locn_tags)\n",
    "locn_tags[0:10]\n"
   ]
  },
  {
   "cell_type": "code",
   "execution_count": 151,
   "id": "3d44e8d3",
   "metadata": {},
   "outputs": [
    {
     "data": {
      "text/plain": [
       "['Bangalore/Bengaluru',\n",
       " 'New Delhi, Gurgaon/Gurugram, Bangalore/Bengaluru, Delhi / NCR, Mumbai (All Areas)',\n",
       " 'Gurgaon/Gurugram, Bangalore/Bengaluru',\n",
       " 'India, Bangalore/Bengaluru',\n",
       " 'Indore, Bangalore/Bengaluru\\n(WFH during Covid)',\n",
       " 'Bangalore/Bengaluru',\n",
       " 'Bangalore/Bengaluru\\n(WFH during Covid)',\n",
       " 'Bangalore/Bengaluru, Delhi / NCR',\n",
       " 'Bangalore/Bengaluru',\n",
       " 'Bangalore East']"
      ]
     },
     "execution_count": 151,
     "metadata": {},
     "output_type": "execute_result"
    }
   ],
   "source": [
    "locn_titles=[]\n",
    "\n",
    "for i in locn_tags:\n",
    "    locn_titles.append(i.text)\n",
    "len(locn_titles)\n",
    "locn_titles[0:10]"
   ]
  },
  {
   "cell_type": "code",
   "execution_count": 152,
   "id": "10032235",
   "metadata": {},
   "outputs": [
    {
     "data": {
      "text/plain": [
       "(20, 20, 20, 20)"
      ]
     },
     "execution_count": 152,
     "metadata": {},
     "output_type": "execute_result"
    }
   ],
   "source": [
    "len(job_titles),len(company_tags),len(salary_tags),len(locn_tags)"
   ]
  },
  {
   "cell_type": "code",
   "execution_count": 153,
   "id": "cca3a590",
   "metadata": {},
   "outputs": [
    {
     "data": {
      "text/html": [
       "<div>\n",
       "<style scoped>\n",
       "    .dataframe tbody tr th:only-of-type {\n",
       "        vertical-align: middle;\n",
       "    }\n",
       "\n",
       "    .dataframe tbody tr th {\n",
       "        vertical-align: top;\n",
       "    }\n",
       "\n",
       "    .dataframe thead th {\n",
       "        text-align: right;\n",
       "    }\n",
       "</style>\n",
       "<table border=\"1\" class=\"dataframe\">\n",
       "  <thead>\n",
       "    <tr style=\"text-align: right;\">\n",
       "      <th></th>\n",
       "      <th>Job Title</th>\n",
       "      <th>Company</th>\n",
       "      <th>Experience</th>\n",
       "      <th>LOcation</th>\n",
       "      <th>salary</th>\n",
       "    </tr>\n",
       "  </thead>\n",
       "  <tbody>\n",
       "    <tr>\n",
       "      <th>0</th>\n",
       "      <td>Junior Data Scientist</td>\n",
       "      <td>Titan</td>\n",
       "      <td>0-0 Yrs</td>\n",
       "      <td>Bangalore/Bengaluru</td>\n",
       "      <td>Not disclosed</td>\n",
       "    </tr>\n",
       "    <tr>\n",
       "      <th>1</th>\n",
       "      <td>Data Scientist</td>\n",
       "      <td>Korea Trade Center</td>\n",
       "      <td>6-10 Yrs</td>\n",
       "      <td>New Delhi, Gurgaon/Gurugram, Bangalore/Bengalu...</td>\n",
       "      <td>Not disclosed</td>\n",
       "    </tr>\n",
       "    <tr>\n",
       "      <th>2</th>\n",
       "      <td>Data Scientist</td>\n",
       "      <td>Genpact</td>\n",
       "      <td>3-4 Yrs</td>\n",
       "      <td>Gurgaon/Gurugram, Bangalore/Bengaluru</td>\n",
       "      <td>Not disclosed</td>\n",
       "    </tr>\n",
       "    <tr>\n",
       "      <th>3</th>\n",
       "      <td>1558CRVA-Data Scientist | Bangalore</td>\n",
       "      <td>RENOUS EXTENSERVE PRIVATE LIMITED</td>\n",
       "      <td>0-0 Yrs</td>\n",
       "      <td>India, Bangalore/Bengaluru</td>\n",
       "      <td>2,00,000 - 5,00,000 PA.</td>\n",
       "    </tr>\n",
       "    <tr>\n",
       "      <th>4</th>\n",
       "      <td>Opportunity For Data Scientist Internship - Be...</td>\n",
       "      <td>Corner Stone Solutions</td>\n",
       "      <td>2-5 Yrs</td>\n",
       "      <td>Indore, Bangalore/Bengaluru\\n(WFH during Covid)</td>\n",
       "      <td>1,00,000 - 2,00,000 PA.</td>\n",
       "    </tr>\n",
       "    <tr>\n",
       "      <th>5</th>\n",
       "      <td>Data scientist ( WFH )</td>\n",
       "      <td>SPM Jobs</td>\n",
       "      <td>3-6 Yrs</td>\n",
       "      <td>Bangalore/Bengaluru</td>\n",
       "      <td>Not disclosed</td>\n",
       "    </tr>\n",
       "    <tr>\n",
       "      <th>6</th>\n",
       "      <td>Interested To join permanent position For Data...</td>\n",
       "      <td>Pelatro Solutions Pvt. Ltd</td>\n",
       "      <td>2-7 Yrs</td>\n",
       "      <td>Bangalore/Bengaluru\\n(WFH during Covid)</td>\n",
       "      <td>Not disclosed</td>\n",
       "    </tr>\n",
       "    <tr>\n",
       "      <th>7</th>\n",
       "      <td>Data Scientist - Immediate Joiners only</td>\n",
       "      <td>MLAI Digital</td>\n",
       "      <td>1-6 Yrs</td>\n",
       "      <td>Bangalore/Bengaluru, Delhi / NCR</td>\n",
       "      <td>Not disclosed</td>\n",
       "    </tr>\n",
       "    <tr>\n",
       "      <th>8</th>\n",
       "      <td>Data Scientist</td>\n",
       "      <td>Om Consulting</td>\n",
       "      <td>0-5 Yrs</td>\n",
       "      <td>Bangalore/Bengaluru</td>\n",
       "      <td>2,25,000 - 4,50,000 PA.</td>\n",
       "    </tr>\n",
       "    <tr>\n",
       "      <th>9</th>\n",
       "      <td>Associate Scientist - Semantic &amp; Data Modeling</td>\n",
       "      <td>Axa XL</td>\n",
       "      <td>1-5 Yrs</td>\n",
       "      <td>Bangalore East</td>\n",
       "      <td>Not disclosed</td>\n",
       "    </tr>\n",
       "    <tr>\n",
       "      <th>10</th>\n",
       "      <td>Data Scientist</td>\n",
       "      <td>Alp Consulting Limited</td>\n",
       "      <td>0-5 Yrs</td>\n",
       "      <td>Kolkata, Hyderabad/Secunderabad, Pune, Chennai...</td>\n",
       "      <td>Not disclosed</td>\n",
       "    </tr>\n",
       "    <tr>\n",
       "      <th>11</th>\n",
       "      <td>Data scientist (WFH)</td>\n",
       "      <td>SPM HR SOLUTIONS</td>\n",
       "      <td>0-4 Yrs</td>\n",
       "      <td>Bangalore/Bengaluru</td>\n",
       "      <td>Not disclosed</td>\n",
       "    </tr>\n",
       "    <tr>\n",
       "      <th>12</th>\n",
       "      <td>Senior Marketing Data Analyst</td>\n",
       "      <td>Tide Software</td>\n",
       "      <td>0-2 Yrs</td>\n",
       "      <td>Bangalore/Bengaluru</td>\n",
       "      <td>Not disclosed</td>\n",
       "    </tr>\n",
       "    <tr>\n",
       "      <th>13</th>\n",
       "      <td>Senior Data Analyst 1- Business Intelligence</td>\n",
       "      <td>Axa XL</td>\n",
       "      <td>4-7 Yrs</td>\n",
       "      <td>Bangalore East</td>\n",
       "      <td>Not disclosed</td>\n",
       "    </tr>\n",
       "    <tr>\n",
       "      <th>14</th>\n",
       "      <td>Genpact is hiring For Java Angular - Data engi...</td>\n",
       "      <td>Genpact</td>\n",
       "      <td>0-1 Yrs</td>\n",
       "      <td>Hyderabad/Secunderabad, Pune, Bangalore/Bengaluru</td>\n",
       "      <td>Not disclosed</td>\n",
       "    </tr>\n",
       "    <tr>\n",
       "      <th>15</th>\n",
       "      <td>Looking For Data Analyst</td>\n",
       "      <td>Trellance</td>\n",
       "      <td>0-1 Yrs</td>\n",
       "      <td>Ahmedabad, Bangalore/Bengaluru</td>\n",
       "      <td>2,00,000 - 7,00,000 PA.</td>\n",
       "    </tr>\n",
       "    <tr>\n",
       "      <th>16</th>\n",
       "      <td>Data Analyst Work FROM Home</td>\n",
       "      <td>Fine Homes and Interior</td>\n",
       "      <td>0-5 Yrs</td>\n",
       "      <td>Bangalore/Bengaluru\\n(WFH during Covid)</td>\n",
       "      <td>2,00,000 - 4,75,000 PA.</td>\n",
       "    </tr>\n",
       "    <tr>\n",
       "      <th>17</th>\n",
       "      <td>Data Entry Analyst</td>\n",
       "      <td>Digi Verve Technologies Private Limited</td>\n",
       "      <td>0-3 Yrs</td>\n",
       "      <td>Bengaluru</td>\n",
       "      <td>Not disclosed</td>\n",
       "    </tr>\n",
       "    <tr>\n",
       "      <th>18</th>\n",
       "      <td>Data Coordinator | Data Analyst | MS Excel | T...</td>\n",
       "      <td>Inspiration Manpower Consultancy Pvt. Ltd.</td>\n",
       "      <td>0-3 Yrs</td>\n",
       "      <td>Bangalore/Bengaluru(Sadashiva Nagar)</td>\n",
       "      <td>1,00,000 - 2,50,000 PA.</td>\n",
       "    </tr>\n",
       "    <tr>\n",
       "      <th>19</th>\n",
       "      <td>Data Analyst Internship</td>\n",
       "      <td>Heart It Out</td>\n",
       "      <td>0-2 Yrs</td>\n",
       "      <td>Bangalore/Bengaluru</td>\n",
       "      <td>Not disclosed</td>\n",
       "    </tr>\n",
       "  </tbody>\n",
       "</table>\n",
       "</div>"
      ],
      "text/plain": [
       "                                            Job Title  \\\n",
       "0                               Junior Data Scientist   \n",
       "1                                      Data Scientist   \n",
       "2                                      Data Scientist   \n",
       "3                 1558CRVA-Data Scientist | Bangalore   \n",
       "4   Opportunity For Data Scientist Internship - Be...   \n",
       "5                              Data scientist ( WFH )   \n",
       "6   Interested To join permanent position For Data...   \n",
       "7             Data Scientist - Immediate Joiners only   \n",
       "8                                      Data Scientist   \n",
       "9      Associate Scientist - Semantic & Data Modeling   \n",
       "10                                     Data Scientist   \n",
       "11                               Data scientist (WFH)   \n",
       "12                      Senior Marketing Data Analyst   \n",
       "13       Senior Data Analyst 1- Business Intelligence   \n",
       "14  Genpact is hiring For Java Angular - Data engi...   \n",
       "15                           Looking For Data Analyst   \n",
       "16                        Data Analyst Work FROM Home   \n",
       "17                                 Data Entry Analyst   \n",
       "18  Data Coordinator | Data Analyst | MS Excel | T...   \n",
       "19                            Data Analyst Internship   \n",
       "\n",
       "                                       Company Experience  \\\n",
       "0                                        Titan    0-0 Yrs   \n",
       "1                           Korea Trade Center   6-10 Yrs   \n",
       "2                                      Genpact    3-4 Yrs   \n",
       "3            RENOUS EXTENSERVE PRIVATE LIMITED    0-0 Yrs   \n",
       "4                       Corner Stone Solutions    2-5 Yrs   \n",
       "5                                     SPM Jobs    3-6 Yrs   \n",
       "6                   Pelatro Solutions Pvt. Ltd    2-7 Yrs   \n",
       "7                                 MLAI Digital    1-6 Yrs   \n",
       "8                                Om Consulting    0-5 Yrs   \n",
       "9                                       Axa XL    1-5 Yrs   \n",
       "10                      Alp Consulting Limited    0-5 Yrs   \n",
       "11                            SPM HR SOLUTIONS    0-4 Yrs   \n",
       "12                               Tide Software    0-2 Yrs   \n",
       "13                                      Axa XL    4-7 Yrs   \n",
       "14                                     Genpact    0-1 Yrs   \n",
       "15                                   Trellance    0-1 Yrs   \n",
       "16                     Fine Homes and Interior    0-5 Yrs   \n",
       "17     Digi Verve Technologies Private Limited    0-3 Yrs   \n",
       "18  Inspiration Manpower Consultancy Pvt. Ltd.    0-3 Yrs   \n",
       "19                                Heart It Out    0-2 Yrs   \n",
       "\n",
       "                                             LOcation                   salary  \n",
       "0                                 Bangalore/Bengaluru            Not disclosed  \n",
       "1   New Delhi, Gurgaon/Gurugram, Bangalore/Bengalu...            Not disclosed  \n",
       "2               Gurgaon/Gurugram, Bangalore/Bengaluru            Not disclosed  \n",
       "3                          India, Bangalore/Bengaluru  2,00,000 - 5,00,000 PA.  \n",
       "4     Indore, Bangalore/Bengaluru\\n(WFH during Covid)  1,00,000 - 2,00,000 PA.  \n",
       "5                                 Bangalore/Bengaluru            Not disclosed  \n",
       "6             Bangalore/Bengaluru\\n(WFH during Covid)            Not disclosed  \n",
       "7                    Bangalore/Bengaluru, Delhi / NCR            Not disclosed  \n",
       "8                                 Bangalore/Bengaluru  2,25,000 - 4,50,000 PA.  \n",
       "9                                      Bangalore East            Not disclosed  \n",
       "10  Kolkata, Hyderabad/Secunderabad, Pune, Chennai...            Not disclosed  \n",
       "11                                Bangalore/Bengaluru            Not disclosed  \n",
       "12                                Bangalore/Bengaluru            Not disclosed  \n",
       "13                                     Bangalore East            Not disclosed  \n",
       "14  Hyderabad/Secunderabad, Pune, Bangalore/Bengaluru            Not disclosed  \n",
       "15                     Ahmedabad, Bangalore/Bengaluru  2,00,000 - 7,00,000 PA.  \n",
       "16            Bangalore/Bengaluru\\n(WFH during Covid)  2,00,000 - 4,75,000 PA.  \n",
       "17                                          Bengaluru            Not disclosed  \n",
       "18               Bangalore/Bengaluru(Sadashiva Nagar)  1,00,000 - 2,50,000 PA.  \n",
       "19                                Bangalore/Bengaluru            Not disclosed  "
      ]
     },
     "execution_count": 153,
     "metadata": {},
     "output_type": "execute_result"
    }
   ],
   "source": [
    "obs=pd.DataFrame()\n",
    "jobs['Job Title']= job_titles\n",
    "jobs['Company']=company_titles\n",
    "jobs['salary']=salary_titles\n",
    "jobs['LOcation']=locn_titles\n",
    "jobs"
   ]
  },
  {
   "cell_type": "markdown",
   "id": "2b510ebf",
   "metadata": {},
   "source": [
    "# 3)"
   ]
  },
  {
   "cell_type": "code",
   "execution_count": 76,
   "id": "5ffa79ac",
   "metadata": {},
   "outputs": [],
   "source": [
    "# let import all the required libraries \n",
    "import selenium \n",
    "from selenium import webdriver \n",
    "import pandas as pd \n",
    "import warnings \n",
    "warnings.filterwarnings(\"ignore\")"
   ]
  },
  {
   "cell_type": "code",
   "execution_count": 77,
   "id": "9515d3f6",
   "metadata": {},
   "outputs": [],
   "source": [
    "driver=webdriver.Chrome(r'C:/Users/sagar/Downloads/chromedriver_win32 (1)/chromedriver.exe')"
   ]
  },
  {
   "cell_type": "code",
   "execution_count": 78,
   "id": "92cd7993",
   "metadata": {},
   "outputs": [],
   "source": [
    "url=\"https://www.naukri.com/\"\n",
    "driver.get(url)"
   ]
  },
  {
   "cell_type": "code",
   "execution_count": 79,
   "id": "8abfea8d",
   "metadata": {},
   "outputs": [
    {
     "data": {
      "text/plain": [
       "<selenium.webdriver.remote.webelement.WebElement (session=\"39665b5034a63ab4e0b4f8e01a193d06\", element=\"690f797d-63fb-4b91-93d7-05e86db9ecfe\")>"
      ]
     },
     "execution_count": 79,
     "metadata": {},
     "output_type": "execute_result"
    }
   ],
   "source": [
    "search_job=driver.find_element_by_class_name(\"suggestor-input \")\n",
    "search_job"
   ]
  },
  {
   "cell_type": "code",
   "execution_count": 80,
   "id": "4b11fdf0",
   "metadata": {},
   "outputs": [],
   "source": [
    "search_job.send_keys(\"Data Scientist\")"
   ]
  },
  {
   "cell_type": "code",
   "execution_count": 81,
   "id": "1437ffcc",
   "metadata": {},
   "outputs": [
    {
     "data": {
      "text/plain": [
       "<selenium.webdriver.remote.webelement.WebElement (session=\"39665b5034a63ab4e0b4f8e01a193d06\", element=\"adb9b166-7b15-40de-be20-ffc9355632d4\")>"
      ]
     },
     "execution_count": 81,
     "metadata": {},
     "output_type": "execute_result"
    }
   ],
   "source": [
    "search_btn=driver.find_element_by_xpath(\"/html/body/div/div[2]/div[3]/div/div/div[6]\")\n",
    "search_btn"
   ]
  },
  {
   "cell_type": "code",
   "execution_count": 82,
   "id": "fe9c5936",
   "metadata": {},
   "outputs": [],
   "source": [
    "search_btn.click()"
   ]
  },
  {
   "cell_type": "code",
   "execution_count": 84,
   "id": "abbe218f",
   "metadata": {},
   "outputs": [
    {
     "data": {
      "text/plain": [
       "<selenium.webdriver.remote.webelement.WebElement (session=\"39665b5034a63ab4e0b4f8e01a193d06\", element=\"32312191-efca-4c1f-8e72-912068642e75\")>"
      ]
     },
     "execution_count": 84,
     "metadata": {},
     "output_type": "execute_result"
    }
   ],
   "source": [
    "search_locn=driver.find_element_by_xpath(\"/html/body/div[1]/div[3]/div[2]/section[1]/div[2]/div[3]/div[2]/div[3]/label/i\")\n",
    "search_locn"
   ]
  },
  {
   "cell_type": "code",
   "execution_count": 85,
   "id": "611f01ee",
   "metadata": {},
   "outputs": [],
   "source": [
    "search_locn.click()"
   ]
  },
  {
   "cell_type": "code",
   "execution_count": 86,
   "id": "c84386ab",
   "metadata": {},
   "outputs": [
    {
     "data": {
      "text/plain": [
       "<selenium.webdriver.remote.webelement.WebElement (session=\"39665b5034a63ab4e0b4f8e01a193d06\", element=\"743de088-89b1-4690-b782-c084c68d35c9\")>"
      ]
     },
     "execution_count": 86,
     "metadata": {},
     "output_type": "execute_result"
    }
   ],
   "source": [
    "search_salary=driver.find_element_by_xpath(\"/html/body/div[1]/div[3]/div[2]/section[1]/div[2]/div[4]/div[2]/div[1]/label/i\")\n",
    "search_salary"
   ]
  },
  {
   "cell_type": "code",
   "execution_count": 87,
   "id": "853ff4f3",
   "metadata": {},
   "outputs": [],
   "source": [
    "search_salary.click()"
   ]
  },
  {
   "cell_type": "code",
   "execution_count": 88,
   "id": "1f848ca9",
   "metadata": {},
   "outputs": [
    {
     "data": {
      "text/plain": [
       "[<selenium.webdriver.remote.webelement.WebElement (session=\"39665b5034a63ab4e0b4f8e01a193d06\", element=\"1e29b594-66a7-42e8-a6e6-270777cf6935\")>,\n",
       " <selenium.webdriver.remote.webelement.WebElement (session=\"39665b5034a63ab4e0b4f8e01a193d06\", element=\"fe787c22-e607-48ea-9d28-6cab6cb8ba51\")>,\n",
       " <selenium.webdriver.remote.webelement.WebElement (session=\"39665b5034a63ab4e0b4f8e01a193d06\", element=\"bd365ef5-015c-431b-9d4a-00301fbcf61c\")>,\n",
       " <selenium.webdriver.remote.webelement.WebElement (session=\"39665b5034a63ab4e0b4f8e01a193d06\", element=\"f820c060-66a5-4618-8ecd-5908b8f60482\")>,\n",
       " <selenium.webdriver.remote.webelement.WebElement (session=\"39665b5034a63ab4e0b4f8e01a193d06\", element=\"54ac8be6-0d82-4857-829d-56cd4692712a\")>,\n",
       " <selenium.webdriver.remote.webelement.WebElement (session=\"39665b5034a63ab4e0b4f8e01a193d06\", element=\"431fef15-3963-4f07-a13d-ccc56df3c43c\")>,\n",
       " <selenium.webdriver.remote.webelement.WebElement (session=\"39665b5034a63ab4e0b4f8e01a193d06\", element=\"275c301d-5cf0-46cd-9bb4-4277d6a0a3d6\")>,\n",
       " <selenium.webdriver.remote.webelement.WebElement (session=\"39665b5034a63ab4e0b4f8e01a193d06\", element=\"135fc695-9aac-4069-b118-7d5f84af02fe\")>,\n",
       " <selenium.webdriver.remote.webelement.WebElement (session=\"39665b5034a63ab4e0b4f8e01a193d06\", element=\"66164d1a-4288-473a-a72f-ba83fedc3d64\")>,\n",
       " <selenium.webdriver.remote.webelement.WebElement (session=\"39665b5034a63ab4e0b4f8e01a193d06\", element=\"79cde3e7-80b0-445e-b06f-c2bc21454be1\")>]"
      ]
     },
     "execution_count": 88,
     "metadata": {},
     "output_type": "execute_result"
    }
   ],
   "source": [
    "title_tags= driver.find_elements_by_xpath('//a[@class=\"title fw500 ellipsis\"]')\n",
    "len(title_tags)\n",
    "title_tags[0:10]"
   ]
  },
  {
   "cell_type": "code",
   "execution_count": 89,
   "id": "c0d8a100",
   "metadata": {},
   "outputs": [
    {
     "data": {
      "text/plain": [
       "['Data Analyst / Data Scientist / Business Analytics / Fresher - MNC',\n",
       " 'Data Scientist',\n",
       " 'Data Scientist',\n",
       " 'Only Fresher / Python Data Scientist / Trainee / Analytics - MNC Jobs',\n",
       " 'Senior Data Scientist',\n",
       " 'Data Scientist - Immediate Joiners only',\n",
       " 'Data Scientist',\n",
       " 'Data Scientist',\n",
       " 'Lead Data Analyst - Marketing',\n",
       " 'Developers, Data Scientists, Web Designers, Android Developers']"
      ]
     },
     "execution_count": 89,
     "metadata": {},
     "output_type": "execute_result"
    }
   ],
   "source": [
    "job_titles=[]\n",
    "\n",
    "for i in title_tags:\n",
    "    job_titles.append(i.text)\n",
    "len(job_titles)\n",
    "job_titles[0:10]"
   ]
  },
  {
   "cell_type": "code",
   "execution_count": 90,
   "id": "8c17f3d4",
   "metadata": {},
   "outputs": [
    {
     "data": {
      "text/plain": [
       "[<selenium.webdriver.remote.webelement.WebElement (session=\"39665b5034a63ab4e0b4f8e01a193d06\", element=\"9373e5c1-0877-4c4f-a1be-1d123efa28d5\")>,\n",
       " <selenium.webdriver.remote.webelement.WebElement (session=\"39665b5034a63ab4e0b4f8e01a193d06\", element=\"05059947-2176-4002-8751-53b1a2b2de7c\")>,\n",
       " <selenium.webdriver.remote.webelement.WebElement (session=\"39665b5034a63ab4e0b4f8e01a193d06\", element=\"483e2532-fb37-4a9d-be18-ee6206e7d646\")>,\n",
       " <selenium.webdriver.remote.webelement.WebElement (session=\"39665b5034a63ab4e0b4f8e01a193d06\", element=\"f086979c-7914-42fd-9aec-2b776b5fe065\")>,\n",
       " <selenium.webdriver.remote.webelement.WebElement (session=\"39665b5034a63ab4e0b4f8e01a193d06\", element=\"a820dc6a-aa02-4704-bf92-f78873560ca4\")>,\n",
       " <selenium.webdriver.remote.webelement.WebElement (session=\"39665b5034a63ab4e0b4f8e01a193d06\", element=\"8b059ae1-7bc9-437b-8486-7bc9b023db58\")>,\n",
       " <selenium.webdriver.remote.webelement.WebElement (session=\"39665b5034a63ab4e0b4f8e01a193d06\", element=\"f94f098c-fe52-4aad-9f9b-e23caa8c66cc\")>,\n",
       " <selenium.webdriver.remote.webelement.WebElement (session=\"39665b5034a63ab4e0b4f8e01a193d06\", element=\"8c51748e-89d9-4296-acd0-0279e0e06bef\")>,\n",
       " <selenium.webdriver.remote.webelement.WebElement (session=\"39665b5034a63ab4e0b4f8e01a193d06\", element=\"eaaeff70-04fa-41c7-bc62-d0f74565e378\")>,\n",
       " <selenium.webdriver.remote.webelement.WebElement (session=\"39665b5034a63ab4e0b4f8e01a193d06\", element=\"49c4921e-7128-4b55-863b-797ba5f008dc\")>]"
      ]
     },
     "execution_count": 90,
     "metadata": {},
     "output_type": "execute_result"
    }
   ],
   "source": [
    "company_tags= driver.find_elements_by_xpath('//a[@class=\"subTitle ellipsis fleft\"]')\n",
    "len(company_tags)\n",
    "company_tags[0:10]"
   ]
  },
  {
   "cell_type": "code",
   "execution_count": 91,
   "id": "2cbfb860",
   "metadata": {},
   "outputs": [
    {
     "data": {
      "text/plain": [
       "['GABA Consultancy services',\n",
       " 'Genpact',\n",
       " 'Korea Trade Center',\n",
       " 'GABA Consultancy services',\n",
       " 'DECISION POINT PRIVATE LIMITED',\n",
       " 'MLAI Digital',\n",
       " 'Gauge Data Solutions Pvt Ltd',\n",
       " 'Alp Consulting Limited',\n",
       " 'Tide Software',\n",
       " 'Cogmac Technologies']"
      ]
     },
     "execution_count": 91,
     "metadata": {},
     "output_type": "execute_result"
    }
   ],
   "source": [
    "company_titles=[]\n",
    "\n",
    "for i in company_tags:\n",
    "    company_titles.append(i.text)\n",
    "len(company_titles)\n",
    "company_titles[0:10]"
   ]
  },
  {
   "cell_type": "code",
   "execution_count": 92,
   "id": "fb62fcdb",
   "metadata": {},
   "outputs": [
    {
     "data": {
      "text/plain": [
       "[<selenium.webdriver.remote.webelement.WebElement (session=\"39665b5034a63ab4e0b4f8e01a193d06\", element=\"a89be77a-abd3-4b0c-8762-a4754f22192b\")>,\n",
       " <selenium.webdriver.remote.webelement.WebElement (session=\"39665b5034a63ab4e0b4f8e01a193d06\", element=\"113ecc91-2235-4f81-9ebc-97a7dee675e6\")>,\n",
       " <selenium.webdriver.remote.webelement.WebElement (session=\"39665b5034a63ab4e0b4f8e01a193d06\", element=\"6660302b-1b24-4e75-92d8-409403c3bc37\")>,\n",
       " <selenium.webdriver.remote.webelement.WebElement (session=\"39665b5034a63ab4e0b4f8e01a193d06\", element=\"f23be08d-26fa-4bd6-bd9e-7698d5b121c2\")>,\n",
       " <selenium.webdriver.remote.webelement.WebElement (session=\"39665b5034a63ab4e0b4f8e01a193d06\", element=\"aca1a903-4dda-45aa-b34e-4ed6da9ce24f\")>,\n",
       " <selenium.webdriver.remote.webelement.WebElement (session=\"39665b5034a63ab4e0b4f8e01a193d06\", element=\"b83fcf81-86d8-4f8f-bff0-a088140e8534\")>,\n",
       " <selenium.webdriver.remote.webelement.WebElement (session=\"39665b5034a63ab4e0b4f8e01a193d06\", element=\"9c0d8881-f510-40e9-a5da-9002cac60efc\")>,\n",
       " <selenium.webdriver.remote.webelement.WebElement (session=\"39665b5034a63ab4e0b4f8e01a193d06\", element=\"f7ac947b-6d91-466d-a7a8-fd99c81eb8be\")>,\n",
       " <selenium.webdriver.remote.webelement.WebElement (session=\"39665b5034a63ab4e0b4f8e01a193d06\", element=\"36ceb89e-1948-46be-a9bc-bc87a0375ecf\")>,\n",
       " <selenium.webdriver.remote.webelement.WebElement (session=\"39665b5034a63ab4e0b4f8e01a193d06\", element=\"a3f6e79c-2c1e-427e-a676-c96a75ddf973\")>]"
      ]
     },
     "execution_count": 92,
     "metadata": {},
     "output_type": "execute_result"
    }
   ],
   "source": [
    "exp_tags= driver.find_elements_by_xpath('//li[@class=\"fleft grey-text br2 placeHolderLi experience\"]')\n",
    "len(exp_tags)\n",
    "exp_tags[0:10]"
   ]
  },
  {
   "cell_type": "code",
   "execution_count": 93,
   "id": "b2194d8a",
   "metadata": {},
   "outputs": [
    {
     "data": {
      "text/plain": [
       "['0-0 Yrs',\n",
       " '6-10 Yrs',\n",
       " '3-4 Yrs',\n",
       " '0-0 Yrs',\n",
       " '2-5 Yrs',\n",
       " '3-6 Yrs',\n",
       " '2-7 Yrs',\n",
       " '1-6 Yrs',\n",
       " '0-5 Yrs',\n",
       " '1-5 Yrs']"
      ]
     },
     "execution_count": 93,
     "metadata": {},
     "output_type": "execute_result"
    }
   ],
   "source": [
    "exp_titles=[]\n",
    "\n",
    "for i in exp_tags:\n",
    "    exp_titles.append(i.text)\n",
    "len(exp_titles)\n",
    "exp_titles[0:10]"
   ]
  },
  {
   "cell_type": "code",
   "execution_count": 94,
   "id": "cc650329",
   "metadata": {},
   "outputs": [
    {
     "data": {
      "text/plain": [
       "[<selenium.webdriver.remote.webelement.WebElement (session=\"39665b5034a63ab4e0b4f8e01a193d06\", element=\"41b30464-23be-4d69-a1fc-58e34002f7fa\")>,\n",
       " <selenium.webdriver.remote.webelement.WebElement (session=\"39665b5034a63ab4e0b4f8e01a193d06\", element=\"c7517a75-deec-49d6-9316-275086ef57a2\")>,\n",
       " <selenium.webdriver.remote.webelement.WebElement (session=\"39665b5034a63ab4e0b4f8e01a193d06\", element=\"6e3e87b6-4d4c-4c07-a6f0-ba46c3bf74d2\")>,\n",
       " <selenium.webdriver.remote.webelement.WebElement (session=\"39665b5034a63ab4e0b4f8e01a193d06\", element=\"cafd438c-49e6-4588-b9b2-9d21a4052e05\")>,\n",
       " <selenium.webdriver.remote.webelement.WebElement (session=\"39665b5034a63ab4e0b4f8e01a193d06\", element=\"9620728e-a6a4-436a-b8cb-6da5fcad19c0\")>,\n",
       " <selenium.webdriver.remote.webelement.WebElement (session=\"39665b5034a63ab4e0b4f8e01a193d06\", element=\"ba055bfc-22ec-4365-ad6e-646d212b3843\")>,\n",
       " <selenium.webdriver.remote.webelement.WebElement (session=\"39665b5034a63ab4e0b4f8e01a193d06\", element=\"2adbd1a0-5e5f-4d63-9320-673d8d79a75b\")>,\n",
       " <selenium.webdriver.remote.webelement.WebElement (session=\"39665b5034a63ab4e0b4f8e01a193d06\", element=\"6860cd2b-f4a3-49ae-8bcc-2d7434ce4e53\")>,\n",
       " <selenium.webdriver.remote.webelement.WebElement (session=\"39665b5034a63ab4e0b4f8e01a193d06\", element=\"3b9e5cb4-3ca9-44ef-8b4c-ba8562b3c8ed\")>,\n",
       " <selenium.webdriver.remote.webelement.WebElement (session=\"39665b5034a63ab4e0b4f8e01a193d06\", element=\"337298af-acc3-44d2-8096-ef629b884208\")>]"
      ]
     },
     "execution_count": 94,
     "metadata": {},
     "output_type": "execute_result"
    }
   ],
   "source": [
    "locn_tags= driver.find_elements_by_xpath('//li[@class=\"fleft grey-text br2 placeHolderLi location\"]')\n",
    "len(locn_tags)\n",
    "locn_tags[0:10]\n"
   ]
  },
  {
   "cell_type": "code",
   "execution_count": 95,
   "id": "5839e956",
   "metadata": {},
   "outputs": [
    {
     "data": {
      "text/plain": [
       "['Noida, New Delhi, Delhi / NCR',\n",
       " 'Gurgaon/Gurugram, Bangalore/Bengaluru',\n",
       " 'New Delhi, Gurgaon/Gurugram, Bangalore/Bengaluru, Delhi / NCR, Mumbai (All Areas)',\n",
       " 'Noida, New Delhi, Gurgaon/Gurugram',\n",
       " 'Gurgaon/Gurugram, Chennai\\n(WFH during Covid)',\n",
       " 'Bangalore/Bengaluru, Delhi / NCR',\n",
       " 'Noida',\n",
       " 'Kolkata, Hyderabad/Secunderabad, Pune, Chennai, Bangalore/Bengaluru, Delhi / NCR',\n",
       " 'New Delhi',\n",
       " 'Noida']"
      ]
     },
     "execution_count": 95,
     "metadata": {},
     "output_type": "execute_result"
    }
   ],
   "source": [
    "locn_titles=[]\n",
    "\n",
    "for i in locn_tags:\n",
    "    locn_titles.append(i.text)\n",
    "len(locn_titles)\n",
    "locn_titles[0:10]"
   ]
  },
  {
   "cell_type": "code",
   "execution_count": 96,
   "id": "78c60398",
   "metadata": {},
   "outputs": [
    {
     "data": {
      "text/plain": [
       "(20, 20, 20, 20)"
      ]
     },
     "execution_count": 96,
     "metadata": {},
     "output_type": "execute_result"
    }
   ],
   "source": [
    "len(job_titles),len(company_tags),len(exp_tags),len(locn_tags)"
   ]
  },
  {
   "cell_type": "code",
   "execution_count": 97,
   "id": "192a6ac6",
   "metadata": {},
   "outputs": [
    {
     "data": {
      "text/html": [
       "<div>\n",
       "<style scoped>\n",
       "    .dataframe tbody tr th:only-of-type {\n",
       "        vertical-align: middle;\n",
       "    }\n",
       "\n",
       "    .dataframe tbody tr th {\n",
       "        vertical-align: top;\n",
       "    }\n",
       "\n",
       "    .dataframe thead th {\n",
       "        text-align: right;\n",
       "    }\n",
       "</style>\n",
       "<table border=\"1\" class=\"dataframe\">\n",
       "  <thead>\n",
       "    <tr style=\"text-align: right;\">\n",
       "      <th></th>\n",
       "      <th>Job Title</th>\n",
       "      <th>Company</th>\n",
       "      <th>Experience</th>\n",
       "      <th>LOcation</th>\n",
       "    </tr>\n",
       "  </thead>\n",
       "  <tbody>\n",
       "    <tr>\n",
       "      <th>0</th>\n",
       "      <td>Data Analyst / Data Scientist / Business Analy...</td>\n",
       "      <td>GABA Consultancy services</td>\n",
       "      <td>0-0 Yrs</td>\n",
       "      <td>Noida, New Delhi, Delhi / NCR</td>\n",
       "    </tr>\n",
       "    <tr>\n",
       "      <th>1</th>\n",
       "      <td>Data Scientist</td>\n",
       "      <td>Genpact</td>\n",
       "      <td>6-10 Yrs</td>\n",
       "      <td>Gurgaon/Gurugram, Bangalore/Bengaluru</td>\n",
       "    </tr>\n",
       "    <tr>\n",
       "      <th>2</th>\n",
       "      <td>Data Scientist</td>\n",
       "      <td>Korea Trade Center</td>\n",
       "      <td>3-4 Yrs</td>\n",
       "      <td>New Delhi, Gurgaon/Gurugram, Bangalore/Bengalu...</td>\n",
       "    </tr>\n",
       "    <tr>\n",
       "      <th>3</th>\n",
       "      <td>Only Fresher / Python Data Scientist / Trainee...</td>\n",
       "      <td>GABA Consultancy services</td>\n",
       "      <td>0-0 Yrs</td>\n",
       "      <td>Noida, New Delhi, Gurgaon/Gurugram</td>\n",
       "    </tr>\n",
       "    <tr>\n",
       "      <th>4</th>\n",
       "      <td>Senior Data Scientist</td>\n",
       "      <td>DECISION POINT PRIVATE LIMITED</td>\n",
       "      <td>2-5 Yrs</td>\n",
       "      <td>Gurgaon/Gurugram, Chennai\\n(WFH during Covid)</td>\n",
       "    </tr>\n",
       "    <tr>\n",
       "      <th>5</th>\n",
       "      <td>Data Scientist - Immediate Joiners only</td>\n",
       "      <td>MLAI Digital</td>\n",
       "      <td>3-6 Yrs</td>\n",
       "      <td>Bangalore/Bengaluru, Delhi / NCR</td>\n",
       "    </tr>\n",
       "    <tr>\n",
       "      <th>6</th>\n",
       "      <td>Data Scientist</td>\n",
       "      <td>Gauge Data Solutions Pvt Ltd</td>\n",
       "      <td>2-7 Yrs</td>\n",
       "      <td>Noida</td>\n",
       "    </tr>\n",
       "    <tr>\n",
       "      <th>7</th>\n",
       "      <td>Data Scientist</td>\n",
       "      <td>Alp Consulting Limited</td>\n",
       "      <td>1-6 Yrs</td>\n",
       "      <td>Kolkata, Hyderabad/Secunderabad, Pune, Chennai...</td>\n",
       "    </tr>\n",
       "    <tr>\n",
       "      <th>8</th>\n",
       "      <td>Lead Data Analyst - Marketing</td>\n",
       "      <td>Tide Software</td>\n",
       "      <td>0-5 Yrs</td>\n",
       "      <td>New Delhi</td>\n",
       "    </tr>\n",
       "    <tr>\n",
       "      <th>9</th>\n",
       "      <td>Developers, Data Scientists, Web Designers, An...</td>\n",
       "      <td>Cogmac Technologies</td>\n",
       "      <td>1-5 Yrs</td>\n",
       "      <td>Noida</td>\n",
       "    </tr>\n",
       "    <tr>\n",
       "      <th>10</th>\n",
       "      <td>Quality Analyst / Data Engineer / Associate An...</td>\n",
       "      <td>GABA Consultancy services</td>\n",
       "      <td>0-5 Yrs</td>\n",
       "      <td>Noida, New Delhi, Delhi / NCR</td>\n",
       "    </tr>\n",
       "    <tr>\n",
       "      <th>11</th>\n",
       "      <td>Data Analyst</td>\n",
       "      <td>Analog Legalhub Technology Solutions Pvt Ltd</td>\n",
       "      <td>0-4 Yrs</td>\n",
       "      <td>New Delhi</td>\n",
       "    </tr>\n",
       "    <tr>\n",
       "      <th>12</th>\n",
       "      <td>Junior Data Analyst</td>\n",
       "      <td>SiCureMi Healthcare Technologies</td>\n",
       "      <td>0-2 Yrs</td>\n",
       "      <td>Delhi</td>\n",
       "    </tr>\n",
       "    <tr>\n",
       "      <th>13</th>\n",
       "      <td>Senior Data Analyst</td>\n",
       "      <td>Grofers</td>\n",
       "      <td>4-7 Yrs</td>\n",
       "      <td>Gurgaon/Gurugram</td>\n",
       "    </tr>\n",
       "    <tr>\n",
       "      <th>14</th>\n",
       "      <td>Data Analyst</td>\n",
       "      <td>Netomi</td>\n",
       "      <td>0-1 Yrs</td>\n",
       "      <td>Gurgaon</td>\n",
       "    </tr>\n",
       "    <tr>\n",
       "      <th>15</th>\n",
       "      <td>Process Trainee - Data Analyst</td>\n",
       "      <td>Ameriprise Financial</td>\n",
       "      <td>0-1 Yrs</td>\n",
       "      <td>Gurgaon/Gurugram</td>\n",
       "    </tr>\n",
       "    <tr>\n",
       "      <th>16</th>\n",
       "      <td>Data Analyst</td>\n",
       "      <td>Right Step Consulting</td>\n",
       "      <td>0-5 Yrs</td>\n",
       "      <td>Delhi, Gurgaon</td>\n",
       "    </tr>\n",
       "    <tr>\n",
       "      <th>17</th>\n",
       "      <td>Survey - Data Analyst</td>\n",
       "      <td>doubledutch</td>\n",
       "      <td>0-3 Yrs</td>\n",
       "      <td>Gurgaon/Gurugram</td>\n",
       "    </tr>\n",
       "    <tr>\n",
       "      <th>18</th>\n",
       "      <td>MIS Executive / Data Analyst</td>\n",
       "      <td>Stark Industries</td>\n",
       "      <td>0-3 Yrs</td>\n",
       "      <td>Gurgaon, haryana</td>\n",
       "    </tr>\n",
       "    <tr>\n",
       "      <th>19</th>\n",
       "      <td>Trainee/ Junior - SQL DBA / Data Engineer</td>\n",
       "      <td>IKOKAS Technologies Private Limited</td>\n",
       "      <td>0-2 Yrs</td>\n",
       "      <td>Delhi / NCR\\n(WFH during Covid)</td>\n",
       "    </tr>\n",
       "  </tbody>\n",
       "</table>\n",
       "</div>"
      ],
      "text/plain": [
       "                                            Job Title  \\\n",
       "0   Data Analyst / Data Scientist / Business Analy...   \n",
       "1                                      Data Scientist   \n",
       "2                                      Data Scientist   \n",
       "3   Only Fresher / Python Data Scientist / Trainee...   \n",
       "4                               Senior Data Scientist   \n",
       "5             Data Scientist - Immediate Joiners only   \n",
       "6                                      Data Scientist   \n",
       "7                                      Data Scientist   \n",
       "8                       Lead Data Analyst - Marketing   \n",
       "9   Developers, Data Scientists, Web Designers, An...   \n",
       "10  Quality Analyst / Data Engineer / Associate An...   \n",
       "11                                       Data Analyst   \n",
       "12                                Junior Data Analyst   \n",
       "13                                Senior Data Analyst   \n",
       "14                                       Data Analyst   \n",
       "15                     Process Trainee - Data Analyst   \n",
       "16                                       Data Analyst   \n",
       "17                              Survey - Data Analyst   \n",
       "18                       MIS Executive / Data Analyst   \n",
       "19          Trainee/ Junior - SQL DBA / Data Engineer   \n",
       "\n",
       "                                         Company Experience  \\\n",
       "0                      GABA Consultancy services    0-0 Yrs   \n",
       "1                                        Genpact   6-10 Yrs   \n",
       "2                             Korea Trade Center    3-4 Yrs   \n",
       "3                      GABA Consultancy services    0-0 Yrs   \n",
       "4                 DECISION POINT PRIVATE LIMITED    2-5 Yrs   \n",
       "5                                   MLAI Digital    3-6 Yrs   \n",
       "6                   Gauge Data Solutions Pvt Ltd    2-7 Yrs   \n",
       "7                         Alp Consulting Limited    1-6 Yrs   \n",
       "8                                  Tide Software    0-5 Yrs   \n",
       "9                            Cogmac Technologies    1-5 Yrs   \n",
       "10                     GABA Consultancy services    0-5 Yrs   \n",
       "11  Analog Legalhub Technology Solutions Pvt Ltd    0-4 Yrs   \n",
       "12              SiCureMi Healthcare Technologies    0-2 Yrs   \n",
       "13                                       Grofers    4-7 Yrs   \n",
       "14                                        Netomi    0-1 Yrs   \n",
       "15                          Ameriprise Financial    0-1 Yrs   \n",
       "16                         Right Step Consulting    0-5 Yrs   \n",
       "17                                   doubledutch    0-3 Yrs   \n",
       "18                              Stark Industries    0-3 Yrs   \n",
       "19           IKOKAS Technologies Private Limited    0-2 Yrs   \n",
       "\n",
       "                                             LOcation  \n",
       "0                       Noida, New Delhi, Delhi / NCR  \n",
       "1               Gurgaon/Gurugram, Bangalore/Bengaluru  \n",
       "2   New Delhi, Gurgaon/Gurugram, Bangalore/Bengalu...  \n",
       "3                  Noida, New Delhi, Gurgaon/Gurugram  \n",
       "4       Gurgaon/Gurugram, Chennai\\n(WFH during Covid)  \n",
       "5                    Bangalore/Bengaluru, Delhi / NCR  \n",
       "6                                               Noida  \n",
       "7   Kolkata, Hyderabad/Secunderabad, Pune, Chennai...  \n",
       "8                                           New Delhi  \n",
       "9                                               Noida  \n",
       "10                      Noida, New Delhi, Delhi / NCR  \n",
       "11                                          New Delhi  \n",
       "12                                              Delhi  \n",
       "13                                   Gurgaon/Gurugram  \n",
       "14                                            Gurgaon  \n",
       "15                                   Gurgaon/Gurugram  \n",
       "16                                     Delhi, Gurgaon  \n",
       "17                                   Gurgaon/Gurugram  \n",
       "18                                   Gurgaon, haryana  \n",
       "19                    Delhi / NCR\\n(WFH during Covid)  "
      ]
     },
     "execution_count": 97,
     "metadata": {},
     "output_type": "execute_result"
    }
   ],
   "source": [
    "jobs=pd.DataFrame()\n",
    "jobs['Job Title']= job_titles\n",
    "jobs['Company']=company_titles\n",
    "jobs['Experience']=exp_titles\n",
    "jobs['LOcation']=locn_titles\n",
    "jobs"
   ]
  },
  {
   "cell_type": "code",
   "execution_count": null,
   "id": "839afc88",
   "metadata": {},
   "outputs": [],
   "source": []
  },
  {
   "cell_type": "code",
   "execution_count": null,
   "id": "6e95e928",
   "metadata": {},
   "outputs": [],
   "source": []
  },
  {
   "cell_type": "code",
   "execution_count": null,
   "id": "e1509b37",
   "metadata": {},
   "outputs": [],
   "source": []
  },
  {
   "cell_type": "code",
   "execution_count": null,
   "id": "3eee5a4a",
   "metadata": {},
   "outputs": [],
   "source": []
  },
  {
   "cell_type": "markdown",
   "id": "169f2416",
   "metadata": {},
   "source": [
    "# 4): Scrape data of first 100 sunglasses listings on flipkart.com."
   ]
  },
  {
   "cell_type": "code",
   "execution_count": 77,
   "id": "4b8a6bd6",
   "metadata": {},
   "outputs": [],
   "source": [
    "import selenium \n",
    "\n",
    "from selenium import webdriver\n",
    "import pandas as pd \n",
    "import warnings\n",
    "warnings.filterwarnings(\"ignore\")"
   ]
  },
  {
   "cell_type": "code",
   "execution_count": 78,
   "id": "f09fda17",
   "metadata": {},
   "outputs": [],
   "source": [
    "driver=webdriver.Chrome(r'C:/Users/sagar/Downloads/chromedriver_win32 (1)/chromedriver.exe')"
   ]
  },
  {
   "cell_type": "code",
   "execution_count": 79,
   "id": "c4ec2398",
   "metadata": {},
   "outputs": [],
   "source": [
    "driver=webdriver.Chrome('chromedriver.exe')"
   ]
  },
  {
   "cell_type": "code",
   "execution_count": 80,
   "id": "e311901f",
   "metadata": {},
   "outputs": [],
   "source": [
    "url=\"https://www.flipkart.com/\"\n",
    "driver.get(url)"
   ]
  },
  {
   "cell_type": "code",
   "execution_count": 81,
   "id": "fae07a11",
   "metadata": {},
   "outputs": [],
   "source": [
    "driver.find_element_by_class_name(\"_2doB4z\").click()\n",
    "\n",
    "#removing pop element"
   ]
  },
  {
   "cell_type": "code",
   "execution_count": 82,
   "id": "ad3918bd",
   "metadata": {
    "scrolled": true
   },
   "outputs": [
    {
     "data": {
      "text/plain": [
       "<selenium.webdriver.remote.webelement.WebElement (session=\"a5ac71c5045ff0091767f03b1291c409\", element=\"bb38dda4-7b68-4be7-ac9c-9f1512321aa4\")>"
      ]
     },
     "execution_count": 82,
     "metadata": {},
     "output_type": "execute_result"
    }
   ],
   "source": [
    "search_flip=driver.find_element_by_class_name(\"_3704LK\")\n",
    "search_flip"
   ]
  },
  {
   "cell_type": "code",
   "execution_count": 83,
   "id": "a19e8187",
   "metadata": {},
   "outputs": [],
   "source": [
    "search_flip.send_keys(\"sunglasses\")"
   ]
  },
  {
   "cell_type": "code",
   "execution_count": 84,
   "id": "4488b4fe",
   "metadata": {},
   "outputs": [
    {
     "data": {
      "text/plain": [
       "<selenium.webdriver.remote.webelement.WebElement (session=\"a5ac71c5045ff0091767f03b1291c409\", element=\"a827eea1-e7b2-433a-b60c-05cfd60b69c8\")>"
      ]
     },
     "execution_count": 84,
     "metadata": {},
     "output_type": "execute_result"
    }
   ],
   "source": [
    "search_btn=driver.find_element_by_xpath('/html/body/div[1]/div/div[1]/div[1]/div[2]/div[2]/form/div/button')\n",
    "search_btn"
   ]
  },
  {
   "cell_type": "code",
   "execution_count": 85,
   "id": "77f8ea9a",
   "metadata": {},
   "outputs": [],
   "source": [
    "search_btn.click()"
   ]
  },
  {
   "cell_type": "code",
   "execution_count": 86,
   "id": "a80b251a",
   "metadata": {},
   "outputs": [],
   "source": [
    "brand = []\n",
    "description =[]\n",
    "price = []\n"
   ]
  },
  {
   "cell_type": "code",
   "execution_count": 11,
   "id": "4da603e8",
   "metadata": {},
   "outputs": [],
   "source": [
    "#scrapping the required details\n",
    "start=0\n",
    "end=3\n",
    "for page in range(start,end):\n",
    "    \n",
    "    for i in driver.find_elements_by_class_name(\"_2WkVRV\"):\n",
    "        brand.append(i.text)\n",
    "        \n",
    "    for j in driver.find_elements_by_class_name(\"IRpwTa\"):\n",
    "        description.append(j.text)\n",
    "        \n",
    "    for i in driver.find_elements_by_xpath(\"//div[@class='_30jeq3']\"):\n",
    "        price.append(i.text)\n",
    "        \n",
    "    \n",
    "        \n",
    "    nxt_button=driver.find_elements_by_xpath(\"//a[@class='_1LKTO3']\")\n",
    "    try:\n",
    "        driver.get(nxt_button[1].get_attribute('href'))\n",
    "    except:\n",
    "        driver.get(nxt_button[0].get_attribute('href'))\n"
   ]
  },
  {
   "cell_type": "code",
   "execution_count": 13,
   "id": "0b16c814",
   "metadata": {},
   "outputs": [
    {
     "name": "stdout",
     "output_type": "stream",
     "text": [
      "120 120 120\n"
     ]
    }
   ],
   "source": [
    "print(len(brand),len(description),len(price))"
   ]
  },
  {
   "cell_type": "code",
   "execution_count": 15,
   "id": "aebeb6d2",
   "metadata": {},
   "outputs": [],
   "source": [
    "import pandas as pd \n",
    "df = pd.DataFrame({'Brand':brand[:100],'Description':description[:100],'Price':price[:100]})\n",
    "    "
   ]
  },
  {
   "cell_type": "code",
   "execution_count": 16,
   "id": "f798f318",
   "metadata": {},
   "outputs": [
    {
     "data": {
      "text/html": [
       "<div>\n",
       "<style scoped>\n",
       "    .dataframe tbody tr th:only-of-type {\n",
       "        vertical-align: middle;\n",
       "    }\n",
       "\n",
       "    .dataframe tbody tr th {\n",
       "        vertical-align: top;\n",
       "    }\n",
       "\n",
       "    .dataframe thead th {\n",
       "        text-align: right;\n",
       "    }\n",
       "</style>\n",
       "<table border=\"1\" class=\"dataframe\">\n",
       "  <thead>\n",
       "    <tr style=\"text-align: right;\">\n",
       "      <th></th>\n",
       "      <th>Brand</th>\n",
       "      <th>Description</th>\n",
       "      <th>Price</th>\n",
       "    </tr>\n",
       "  </thead>\n",
       "  <tbody>\n",
       "    <tr>\n",
       "      <th>0</th>\n",
       "      <td>SRPM</td>\n",
       "      <td>UV Protection Wayfarer Sunglasses (50)</td>\n",
       "      <td>₹198</td>\n",
       "    </tr>\n",
       "    <tr>\n",
       "      <th>1</th>\n",
       "      <td>SUNBEE</td>\n",
       "      <td>UV Protection, Polarized Wayfarer Sunglasses (...</td>\n",
       "      <td>₹253</td>\n",
       "    </tr>\n",
       "    <tr>\n",
       "      <th>2</th>\n",
       "      <td>Elligator</td>\n",
       "      <td>UV Protection Round Sunglasses (54)</td>\n",
       "      <td>₹258</td>\n",
       "    </tr>\n",
       "    <tr>\n",
       "      <th>3</th>\n",
       "      <td>PIRASO</td>\n",
       "      <td>UV Protection Aviator Sunglasses (54)</td>\n",
       "      <td>₹229</td>\n",
       "    </tr>\n",
       "    <tr>\n",
       "      <th>4</th>\n",
       "      <td>ROZZETTA CRAFT</td>\n",
       "      <td>Polarized, Night Vision, Riding Glasses Sports...</td>\n",
       "      <td>₹474</td>\n",
       "    </tr>\n",
       "    <tr>\n",
       "      <th>...</th>\n",
       "      <td>...</td>\n",
       "      <td>...</td>\n",
       "      <td>...</td>\n",
       "    </tr>\n",
       "    <tr>\n",
       "      <th>95</th>\n",
       "      <td>Arnette</td>\n",
       "      <td>Mirrored Rectangular Sunglasses (58)</td>\n",
       "      <td>₹2,549</td>\n",
       "    </tr>\n",
       "    <tr>\n",
       "      <th>96</th>\n",
       "      <td>PIRASO</td>\n",
       "      <td>UV Protection Aviator Sunglasses (58)</td>\n",
       "      <td>₹299</td>\n",
       "    </tr>\n",
       "    <tr>\n",
       "      <th>97</th>\n",
       "      <td>Elligator</td>\n",
       "      <td>UV Protection Round Sunglasses (50)</td>\n",
       "      <td>₹269</td>\n",
       "    </tr>\n",
       "    <tr>\n",
       "      <th>98</th>\n",
       "      <td>United Colors of Benetton</td>\n",
       "      <td>UV Protection Wayfarer Sunglasses (56)</td>\n",
       "      <td>₹949</td>\n",
       "    </tr>\n",
       "    <tr>\n",
       "      <th>99</th>\n",
       "      <td>Arnette</td>\n",
       "      <td>Mirrored Retro Square Sunglasses (56)</td>\n",
       "      <td>₹2,549</td>\n",
       "    </tr>\n",
       "  </tbody>\n",
       "</table>\n",
       "<p>100 rows × 3 columns</p>\n",
       "</div>"
      ],
      "text/plain": [
       "                        Brand  \\\n",
       "0                        SRPM   \n",
       "1                      SUNBEE   \n",
       "2                   Elligator   \n",
       "3                      PIRASO   \n",
       "4              ROZZETTA CRAFT   \n",
       "..                        ...   \n",
       "95                    Arnette   \n",
       "96                     PIRASO   \n",
       "97                  Elligator   \n",
       "98  United Colors of Benetton   \n",
       "99                    Arnette   \n",
       "\n",
       "                                          Description   Price  \n",
       "0              UV Protection Wayfarer Sunglasses (50)    ₹198  \n",
       "1   UV Protection, Polarized Wayfarer Sunglasses (...    ₹253  \n",
       "2                 UV Protection Round Sunglasses (54)    ₹258  \n",
       "3               UV Protection Aviator Sunglasses (54)    ₹229  \n",
       "4   Polarized, Night Vision, Riding Glasses Sports...    ₹474  \n",
       "..                                                ...     ...  \n",
       "95               Mirrored Rectangular Sunglasses (58)  ₹2,549  \n",
       "96              UV Protection Aviator Sunglasses (58)    ₹299  \n",
       "97                UV Protection Round Sunglasses (50)    ₹269  \n",
       "98             UV Protection Wayfarer Sunglasses (56)    ₹949  \n",
       "99              Mirrored Retro Square Sunglasses (56)  ₹2,549  \n",
       "\n",
       "[100 rows x 3 columns]"
      ]
     },
     "execution_count": 16,
     "metadata": {},
     "output_type": "execute_result"
    }
   ],
   "source": [
    "df"
   ]
  },
  {
   "cell_type": "code",
   "execution_count": null,
   "id": "55467061",
   "metadata": {},
   "outputs": [],
   "source": []
  },
  {
   "cell_type": "code",
   "execution_count": null,
   "id": "292a4dc5",
   "metadata": {},
   "outputs": [],
   "source": []
  },
  {
   "cell_type": "code",
   "execution_count": null,
   "id": "0b099866",
   "metadata": {},
   "outputs": [],
   "source": []
  },
  {
   "cell_type": "markdown",
   "id": "3791d991",
   "metadata": {},
   "source": [
    "# 5): Scrape 100 reviews data from flipkart.com for iphone11 phone"
   ]
  },
  {
   "cell_type": "code",
   "execution_count": null,
   "id": "0e764ac6",
   "metadata": {},
   "outputs": [],
   "source": []
  },
  {
   "cell_type": "code",
   "execution_count": 161,
   "id": "610c0cd2",
   "metadata": {},
   "outputs": [],
   "source": [
    "import selenium \n",
    "from selenium import webdriver\n",
    "import pandas as pd \n",
    "import warnings\n",
    "warnings.filterwarnings(\"ignore\")"
   ]
  },
  {
   "cell_type": "code",
   "execution_count": 162,
   "id": "e231ffa3",
   "metadata": {},
   "outputs": [],
   "source": [
    "driver=webdriver.Chrome(r'C:/Users/sagar/Downloads/chromedriver_win32 (1)/chromedriver.exe')"
   ]
  },
  {
   "cell_type": "code",
   "execution_count": 163,
   "id": "d3be9031",
   "metadata": {},
   "outputs": [],
   "source": [
    "driver=webdriver.Chrome('chromedriver.exe')"
   ]
  },
  {
   "cell_type": "code",
   "execution_count": 164,
   "id": "e573e767",
   "metadata": {},
   "outputs": [],
   "source": [
    "url=\"https://www.flipkart.com/\"\n",
    "driver.get(url)"
   ]
  },
  {
   "cell_type": "code",
   "execution_count": 165,
   "id": "0df4b4d7",
   "metadata": {},
   "outputs": [],
   "source": [
    "driver.find_element_by_class_name(\"_2doB4z\").click()\n",
    "\n",
    "#removing pop element"
   ]
  },
  {
   "cell_type": "code",
   "execution_count": 166,
   "id": "f12bef50",
   "metadata": {},
   "outputs": [
    {
     "data": {
      "text/plain": [
       "<selenium.webdriver.remote.webelement.WebElement (session=\"8f7872df35d2a73488befff588fca29f\", element=\"eaaf5b63-6df7-42b2-99b0-009525b3ac5d\")>"
      ]
     },
     "execution_count": 166,
     "metadata": {},
     "output_type": "execute_result"
    }
   ],
   "source": [
    "search_flip=driver.find_element_by_class_name(\"_3704LK\")\n",
    "search_flip"
   ]
  },
  {
   "cell_type": "code",
   "execution_count": 167,
   "id": "30db09e5",
   "metadata": {},
   "outputs": [],
   "source": [
    "search_flip.send_keys(\"apple iphone 11\")"
   ]
  },
  {
   "cell_type": "code",
   "execution_count": 168,
   "id": "edd6363d",
   "metadata": {},
   "outputs": [
    {
     "data": {
      "text/plain": [
       "<selenium.webdriver.remote.webelement.WebElement (session=\"8f7872df35d2a73488befff588fca29f\", element=\"3fc328cb-faa0-47c2-b173-7b5de88b58dd\")>"
      ]
     },
     "execution_count": 168,
     "metadata": {},
     "output_type": "execute_result"
    }
   ],
   "source": [
    "search_btn=driver.find_element_by_xpath('/html/body/div/div/div[1]/div[1]/div[2]/div[2]/form/div/button')\n",
    "search_btn"
   ]
  },
  {
   "cell_type": "code",
   "execution_count": 169,
   "id": "a5e6c464",
   "metadata": {},
   "outputs": [],
   "source": [
    "search_btn.click()"
   ]
  },
  {
   "cell_type": "code",
   "execution_count": 170,
   "id": "ef144b98",
   "metadata": {},
   "outputs": [],
   "source": [
    "rating= []\n",
    "brand=[]\n",
    "review = []\n",
    "\n",
    "    "
   ]
  },
  {
   "cell_type": "code",
   "execution_count": null,
   "id": "64d0d381",
   "metadata": {},
   "outputs": [],
   "source": [
    "#scrapping the required details\n",
    "start=0\n",
    "end=3\n",
    "for page in range(start,end):\n",
    "    \n",
    "    for i in driver.find_elements_by_class_name(\"_1lRcqv\"):\n",
    "        rating.append(i.text)\n",
    "        \n",
    "    for j in driver.find_elements_by_class_name(\"_4rR01T\"):\n",
    "        brand.append(j.text)\n",
    "        \n",
    "    for i in driver.find_elements_by_xpath(\"//span[@class='_2_R_DZ']\"):\n",
    "        review.append(i.text)\n",
    "        \n",
    "    \n",
    "        \n",
    "    nxt_button=driver.find_elements_by_xpath(\"//a[@class='_1LKTO3']\")\n",
    "    try:\n",
    "        driver.get(nxt_button[1].get_attribute('href'))\n",
    "    except:\n",
    "        driver.get(nxt_button[0].get_attribute('href'))\n"
   ]
  },
  {
   "cell_type": "code",
   "execution_count": null,
   "id": "cb671cc1",
   "metadata": {},
   "outputs": [],
   "source": [
    "print(len(rating),len(brand),len(review))"
   ]
  },
  {
   "cell_type": "code",
   "execution_count": 104,
   "id": "66846632",
   "metadata": {},
   "outputs": [],
   "source": [
    "import pandas as pd \n",
    "df = pd.DataFrame({'Brand':brand[:8],'Rating':rating[:85],'Review':review[:85]})"
   ]
  },
  {
   "cell_type": "code",
   "execution_count": 105,
   "id": "cb7ad4b3",
   "metadata": {},
   "outputs": [
    {
     "data": {
      "text/html": [
       "<div>\n",
       "<style scoped>\n",
       "    .dataframe tbody tr th:only-of-type {\n",
       "        vertical-align: middle;\n",
       "    }\n",
       "\n",
       "    .dataframe tbody tr th {\n",
       "        vertical-align: top;\n",
       "    }\n",
       "\n",
       "    .dataframe thead th {\n",
       "        text-align: right;\n",
       "    }\n",
       "</style>\n",
       "<table border=\"1\" class=\"dataframe\">\n",
       "  <thead>\n",
       "    <tr style=\"text-align: right;\">\n",
       "      <th></th>\n",
       "      <th>Brand</th>\n",
       "      <th>Rating</th>\n",
       "      <th>Review</th>\n",
       "    </tr>\n",
       "  </thead>\n",
       "  <tbody>\n",
       "    <tr>\n",
       "      <th>0</th>\n",
       "      <td>APPLE iPhone 6 (Silver, 128 GB)</td>\n",
       "      <td>4.4</td>\n",
       "      <td>1,45,544 Ratings &amp; 16,327 Reviews</td>\n",
       "    </tr>\n",
       "    <tr>\n",
       "      <th>1</th>\n",
       "      <td>APPLE iPhone 6 Plus (Silver, 16 GB)</td>\n",
       "      <td>4.5</td>\n",
       "      <td>1,670 Ratings &amp; 201 Reviews</td>\n",
       "    </tr>\n",
       "    <tr>\n",
       "      <th>2</th>\n",
       "      <td>APPLE iPhone 5s (Silver, 16 GB)</td>\n",
       "      <td>4.4</td>\n",
       "      <td>62,702 Ratings &amp; 7,379 Reviews</td>\n",
       "    </tr>\n",
       "    <tr>\n",
       "      <th>3</th>\n",
       "      <td>APPLE iPhone 5C (Pink, 8 GB)</td>\n",
       "      <td>3.9</td>\n",
       "      <td>1,324 Ratings &amp; 265 Reviews</td>\n",
       "    </tr>\n",
       "    <tr>\n",
       "      <th>4</th>\n",
       "      <td>APPLE iPhone 5C (Yellow, 8 GB)</td>\n",
       "      <td>3.9</td>\n",
       "      <td>1,324 Ratings &amp; 265 Reviews</td>\n",
       "    </tr>\n",
       "    <tr>\n",
       "      <th>5</th>\n",
       "      <td>APPLE iPhone 5s (Gold, 16 GB)</td>\n",
       "      <td>4.4</td>\n",
       "      <td>62,702 Ratings &amp; 7,379 Reviews</td>\n",
       "    </tr>\n",
       "    <tr>\n",
       "      <th>6</th>\n",
       "      <td>APPLE iPhone 6 Plus (Gold, 64 GB)</td>\n",
       "      <td>4.5</td>\n",
       "      <td>1,670 Ratings &amp; 201 Reviews</td>\n",
       "    </tr>\n",
       "    <tr>\n",
       "      <th>7</th>\n",
       "      <td>APPLE iPhone 6 (Gold, 16 GB)</td>\n",
       "      <td>4.4</td>\n",
       "      <td>1,45,544 Ratings &amp; 16,327 Reviews</td>\n",
       "    </tr>\n",
       "    <tr>\n",
       "      <th>8</th>\n",
       "      <td>APPLE iPhone 6 (Space Grey, 64 GB)</td>\n",
       "      <td>4.4</td>\n",
       "      <td>1,45,544 Ratings &amp; 16,327 Reviews</td>\n",
       "    </tr>\n",
       "    <tr>\n",
       "      <th>9</th>\n",
       "      <td>APPLE iPhone 6 Plus (Space Grey, 128 GB)</td>\n",
       "      <td>4.5</td>\n",
       "      <td>1,670 Ratings &amp; 201 Reviews</td>\n",
       "    </tr>\n",
       "    <tr>\n",
       "      <th>10</th>\n",
       "      <td>APPLE iPhone X (Silver, 64 GB)</td>\n",
       "      <td>4.6</td>\n",
       "      <td>10,982 Ratings &amp; 876 Reviews</td>\n",
       "    </tr>\n",
       "    <tr>\n",
       "      <th>11</th>\n",
       "      <td>APPLE iPhone 6 (Silver, 64 GB)</td>\n",
       "      <td>4.4</td>\n",
       "      <td>1,45,544 Ratings &amp; 16,327 Reviews</td>\n",
       "    </tr>\n",
       "    <tr>\n",
       "      <th>12</th>\n",
       "      <td>APPLE iPhone X (Silver, 256 GB)</td>\n",
       "      <td>4.6</td>\n",
       "      <td>10,982 Ratings &amp; 876 Reviews</td>\n",
       "    </tr>\n",
       "    <tr>\n",
       "      <th>13</th>\n",
       "      <td>APPLE iPhone X (Space Gray, 64 GB)</td>\n",
       "      <td>4.6</td>\n",
       "      <td>10,982 Ratings &amp; 876 Reviews</td>\n",
       "    </tr>\n",
       "    <tr>\n",
       "      <th>14</th>\n",
       "      <td>APPLE iPhone X (Space Gray, 256 GB)</td>\n",
       "      <td>4.6</td>\n",
       "      <td>10,982 Ratings &amp; 876 Reviews</td>\n",
       "    </tr>\n",
       "    <tr>\n",
       "      <th>15</th>\n",
       "      <td>APPLE iPhone 5C (White, 32 GB)</td>\n",
       "      <td>3.9</td>\n",
       "      <td>1,324 Ratings &amp; 265 Reviews</td>\n",
       "    </tr>\n",
       "    <tr>\n",
       "      <th>16</th>\n",
       "      <td>APPLE iPhone 5C (White, 8 GB)</td>\n",
       "      <td>3.9</td>\n",
       "      <td>1,324 Ratings &amp; 265 Reviews</td>\n",
       "    </tr>\n",
       "    <tr>\n",
       "      <th>17</th>\n",
       "      <td>Apple iPhone 11 (White, 256 GB) (Includes EarP...</td>\n",
       "      <td>4.6</td>\n",
       "      <td>78,385 Ratings &amp; 5,905 Reviews</td>\n",
       "    </tr>\n",
       "    <tr>\n",
       "      <th>18</th>\n",
       "      <td>APPLE iPhone 11 (Yellow, 256 GB)</td>\n",
       "      <td>4.6</td>\n",
       "      <td>78,385 Ratings &amp; 5,905 Reviews</td>\n",
       "    </tr>\n",
       "    <tr>\n",
       "      <th>19</th>\n",
       "      <td>APPLE iPhone 11 Pro Max (Space Grey, 256 GB)</td>\n",
       "      <td>4.7</td>\n",
       "      <td>1,091 Ratings &amp; 100 Reviews</td>\n",
       "    </tr>\n",
       "    <tr>\n",
       "      <th>20</th>\n",
       "      <td>APPLE iPhone 11 Pro Max (Midnight Green, 256 GB)</td>\n",
       "      <td>4.7</td>\n",
       "      <td>1,091 Ratings &amp; 100 Reviews</td>\n",
       "    </tr>\n",
       "    <tr>\n",
       "      <th>21</th>\n",
       "      <td>APPLE iPhone 11 Pro Max (Gold, 256 GB)</td>\n",
       "      <td>4.7</td>\n",
       "      <td>1,091 Ratings &amp; 100 Reviews</td>\n",
       "    </tr>\n",
       "    <tr>\n",
       "      <th>22</th>\n",
       "      <td>APPLE iPhone 11 (Black, 256 GB)</td>\n",
       "      <td>4.6</td>\n",
       "      <td>78,385 Ratings &amp; 5,905 Reviews</td>\n",
       "    </tr>\n",
       "    <tr>\n",
       "      <th>23</th>\n",
       "      <td>APPLE iPhone 11 Pro (Gold, 64 GB)</td>\n",
       "      <td>4.6</td>\n",
       "      <td>8,571 Ratings &amp; 625 Reviews</td>\n",
       "    </tr>\n",
       "    <tr>\n",
       "      <th>24</th>\n",
       "      <td>APPLE iPhone 11 Pro (Silver, 256 GB)</td>\n",
       "      <td>4.6</td>\n",
       "      <td>8,571 Ratings &amp; 625 Reviews</td>\n",
       "    </tr>\n",
       "    <tr>\n",
       "      <th>25</th>\n",
       "      <td>APPLE iPhone 11 Pro (Midnight Green, 256 GB)</td>\n",
       "      <td>4.6</td>\n",
       "      <td>8,571 Ratings &amp; 625 Reviews</td>\n",
       "    </tr>\n",
       "    <tr>\n",
       "      <th>26</th>\n",
       "      <td>APPLE iPhone 11 Pro Max (Silver, 256 GB)</td>\n",
       "      <td>4.7</td>\n",
       "      <td>1,091 Ratings &amp; 100 Reviews</td>\n",
       "    </tr>\n",
       "    <tr>\n",
       "      <th>27</th>\n",
       "      <td>APPLE iPhone 11 Pro (Space Grey, 256 GB)</td>\n",
       "      <td>4.6</td>\n",
       "      <td>8,571 Ratings &amp; 625 Reviews</td>\n",
       "    </tr>\n",
       "    <tr>\n",
       "      <th>28</th>\n",
       "      <td>Apple iPhone 11 (Red, 64 GB) (Includes EarPods...</td>\n",
       "      <td>4.6</td>\n",
       "      <td>78,385 Ratings &amp; 5,905 Reviews</td>\n",
       "    </tr>\n",
       "    <tr>\n",
       "      <th>29</th>\n",
       "      <td>APPLE iPhone 11 Pro (Silver, 64 GB)</td>\n",
       "      <td>4.6</td>\n",
       "      <td>8,571 Ratings &amp; 625 Reviews</td>\n",
       "    </tr>\n",
       "    <tr>\n",
       "      <th>30</th>\n",
       "      <td>APPLE iPhone 6 Plus (Silver, 128 GB)</td>\n",
       "      <td>4.5</td>\n",
       "      <td>1,670 Ratings &amp; 201 Reviews</td>\n",
       "    </tr>\n",
       "    <tr>\n",
       "      <th>31</th>\n",
       "      <td>APPLE iPhone 5s (Space Grey, 16 GB)</td>\n",
       "      <td>4.4</td>\n",
       "      <td>62,702 Ratings &amp; 7,379 Reviews</td>\n",
       "    </tr>\n",
       "    <tr>\n",
       "      <th>32</th>\n",
       "      <td>APPLE iPhone 5C (Blue, 8 GB)</td>\n",
       "      <td>3.9</td>\n",
       "      <td>1,324 Ratings &amp; 265 Reviews</td>\n",
       "    </tr>\n",
       "    <tr>\n",
       "      <th>33</th>\n",
       "      <td>APPLE iPhone 6 (Gold, 64 GB)</td>\n",
       "      <td>4.4</td>\n",
       "      <td>1,45,544 Ratings &amp; 16,327 Reviews</td>\n",
       "    </tr>\n",
       "    <tr>\n",
       "      <th>34</th>\n",
       "      <td>APPLE iPhone 6 (Silver, 16 GB)</td>\n",
       "      <td>4.4</td>\n",
       "      <td>1,45,544 Ratings &amp; 16,327 Reviews</td>\n",
       "    </tr>\n",
       "    <tr>\n",
       "      <th>35</th>\n",
       "      <td>APPLE iPhone 6 (Gold, 128 GB)</td>\n",
       "      <td>4.4</td>\n",
       "      <td>1,45,544 Ratings &amp; 16,327 Reviews</td>\n",
       "    </tr>\n",
       "    <tr>\n",
       "      <th>36</th>\n",
       "      <td>APPLE iPhone 6 Plus (Silver, 64 GB)</td>\n",
       "      <td>4.5</td>\n",
       "      <td>1,670 Ratings &amp; 201 Reviews</td>\n",
       "    </tr>\n",
       "    <tr>\n",
       "      <th>37</th>\n",
       "      <td>APPLE iPhone 6 Plus (Space Grey, 16 GB)</td>\n",
       "      <td>4.5</td>\n",
       "      <td>1,670 Ratings &amp; 201 Reviews</td>\n",
       "    </tr>\n",
       "    <tr>\n",
       "      <th>38</th>\n",
       "      <td>APPLE iPhone 6 (Space Grey, 32 GB)</td>\n",
       "      <td>4.4</td>\n",
       "      <td>1,45,544 Ratings &amp; 16,327 Reviews</td>\n",
       "    </tr>\n",
       "    <tr>\n",
       "      <th>39</th>\n",
       "      <td>APPLE iPhone 6 Plus (Space Grey, 64 GB)</td>\n",
       "      <td>4.5</td>\n",
       "      <td>1,670 Ratings &amp; 201 Reviews</td>\n",
       "    </tr>\n",
       "    <tr>\n",
       "      <th>40</th>\n",
       "      <td>APPLE iPhone 6 (Grey, 128 GB)</td>\n",
       "      <td>4.4</td>\n",
       "      <td>1,45,544 Ratings &amp; 16,327 Reviews</td>\n",
       "    </tr>\n",
       "    <tr>\n",
       "      <th>41</th>\n",
       "      <td>APPLE iPhone 6 (Silver, 128 GB)</td>\n",
       "      <td>4.4</td>\n",
       "      <td>1,45,544 Ratings &amp; 16,327 Reviews</td>\n",
       "    </tr>\n",
       "    <tr>\n",
       "      <th>42</th>\n",
       "      <td>APPLE iPhone 6 Plus (Silver, 16 GB)</td>\n",
       "      <td>4.5</td>\n",
       "      <td>1,670 Ratings &amp; 201 Reviews</td>\n",
       "    </tr>\n",
       "    <tr>\n",
       "      <th>43</th>\n",
       "      <td>APPLE iPhone 5s (Silver, 16 GB)</td>\n",
       "      <td>4.4</td>\n",
       "      <td>62,702 Ratings &amp; 7,379 Reviews</td>\n",
       "    </tr>\n",
       "    <tr>\n",
       "      <th>44</th>\n",
       "      <td>APPLE iPhone 5C (Pink, 8 GB)</td>\n",
       "      <td>3.9</td>\n",
       "      <td>1,324 Ratings &amp; 265 Reviews</td>\n",
       "    </tr>\n",
       "    <tr>\n",
       "      <th>45</th>\n",
       "      <td>APPLE iPhone 5C (Yellow, 8 GB)</td>\n",
       "      <td>3.9</td>\n",
       "      <td>1,324 Ratings &amp; 265 Reviews</td>\n",
       "    </tr>\n",
       "    <tr>\n",
       "      <th>46</th>\n",
       "      <td>APPLE iPhone 5s (Gold, 16 GB)</td>\n",
       "      <td>4.4</td>\n",
       "      <td>62,702 Ratings &amp; 7,379 Reviews</td>\n",
       "    </tr>\n",
       "    <tr>\n",
       "      <th>47</th>\n",
       "      <td>APPLE iPhone 6 Plus (Gold, 64 GB)</td>\n",
       "      <td>4.5</td>\n",
       "      <td>1,670 Ratings &amp; 201 Reviews</td>\n",
       "    </tr>\n",
       "    <tr>\n",
       "      <th>48</th>\n",
       "      <td>APPLE iPhone 6 (Gold, 16 GB)</td>\n",
       "      <td>4.4</td>\n",
       "      <td>1,45,544 Ratings &amp; 16,327 Reviews</td>\n",
       "    </tr>\n",
       "    <tr>\n",
       "      <th>49</th>\n",
       "      <td>APPLE iPhone 6 (Space Grey, 64 GB)</td>\n",
       "      <td>4.4</td>\n",
       "      <td>1,45,544 Ratings &amp; 16,327 Reviews</td>\n",
       "    </tr>\n",
       "    <tr>\n",
       "      <th>50</th>\n",
       "      <td>APPLE iPhone 6 Plus (Space Grey, 128 GB)</td>\n",
       "      <td>4.5</td>\n",
       "      <td>1,670 Ratings &amp; 201 Reviews</td>\n",
       "    </tr>\n",
       "    <tr>\n",
       "      <th>51</th>\n",
       "      <td>APPLE iPhone X (Silver, 64 GB)</td>\n",
       "      <td>4.6</td>\n",
       "      <td>10,982 Ratings &amp; 876 Reviews</td>\n",
       "    </tr>\n",
       "    <tr>\n",
       "      <th>52</th>\n",
       "      <td>APPLE iPhone 6 (Silver, 64 GB)</td>\n",
       "      <td>4.4</td>\n",
       "      <td>1,45,544 Ratings &amp; 16,327 Reviews</td>\n",
       "    </tr>\n",
       "    <tr>\n",
       "      <th>53</th>\n",
       "      <td>APPLE iPhone X (Silver, 256 GB)</td>\n",
       "      <td>4.6</td>\n",
       "      <td>10,982 Ratings &amp; 876 Reviews</td>\n",
       "    </tr>\n",
       "    <tr>\n",
       "      <th>54</th>\n",
       "      <td>APPLE iPhone X (Space Gray, 64 GB)</td>\n",
       "      <td>4.6</td>\n",
       "      <td>10,982 Ratings &amp; 876 Reviews</td>\n",
       "    </tr>\n",
       "    <tr>\n",
       "      <th>55</th>\n",
       "      <td>APPLE iPhone X (Space Gray, 256 GB)</td>\n",
       "      <td>4.6</td>\n",
       "      <td>10,982 Ratings &amp; 876 Reviews</td>\n",
       "    </tr>\n",
       "    <tr>\n",
       "      <th>56</th>\n",
       "      <td>APPLE iPhone 5C (White, 32 GB)</td>\n",
       "      <td>3.9</td>\n",
       "      <td>1,324 Ratings &amp; 265 Reviews</td>\n",
       "    </tr>\n",
       "    <tr>\n",
       "      <th>57</th>\n",
       "      <td>APPLE iPhone 5C (White, 8 GB)</td>\n",
       "      <td>3.9</td>\n",
       "      <td>1,324 Ratings &amp; 265 Reviews</td>\n",
       "    </tr>\n",
       "  </tbody>\n",
       "</table>\n",
       "</div>"
      ],
      "text/plain": [
       "                                                Brand Rating  \\\n",
       "0                     APPLE iPhone 6 (Silver, 128 GB)    4.4   \n",
       "1                 APPLE iPhone 6 Plus (Silver, 16 GB)    4.5   \n",
       "2                     APPLE iPhone 5s (Silver, 16 GB)    4.4   \n",
       "3                        APPLE iPhone 5C (Pink, 8 GB)    3.9   \n",
       "4                      APPLE iPhone 5C (Yellow, 8 GB)    3.9   \n",
       "5                       APPLE iPhone 5s (Gold, 16 GB)    4.4   \n",
       "6                   APPLE iPhone 6 Plus (Gold, 64 GB)    4.5   \n",
       "7                        APPLE iPhone 6 (Gold, 16 GB)    4.4   \n",
       "8                  APPLE iPhone 6 (Space Grey, 64 GB)    4.4   \n",
       "9            APPLE iPhone 6 Plus (Space Grey, 128 GB)    4.5   \n",
       "10                     APPLE iPhone X (Silver, 64 GB)    4.6   \n",
       "11                     APPLE iPhone 6 (Silver, 64 GB)    4.4   \n",
       "12                    APPLE iPhone X (Silver, 256 GB)    4.6   \n",
       "13                 APPLE iPhone X (Space Gray, 64 GB)    4.6   \n",
       "14                APPLE iPhone X (Space Gray, 256 GB)    4.6   \n",
       "15                     APPLE iPhone 5C (White, 32 GB)    3.9   \n",
       "16                      APPLE iPhone 5C (White, 8 GB)    3.9   \n",
       "17  Apple iPhone 11 (White, 256 GB) (Includes EarP...    4.6   \n",
       "18                   APPLE iPhone 11 (Yellow, 256 GB)    4.6   \n",
       "19       APPLE iPhone 11 Pro Max (Space Grey, 256 GB)    4.7   \n",
       "20   APPLE iPhone 11 Pro Max (Midnight Green, 256 GB)    4.7   \n",
       "21             APPLE iPhone 11 Pro Max (Gold, 256 GB)    4.7   \n",
       "22                    APPLE iPhone 11 (Black, 256 GB)    4.6   \n",
       "23                  APPLE iPhone 11 Pro (Gold, 64 GB)    4.6   \n",
       "24               APPLE iPhone 11 Pro (Silver, 256 GB)    4.6   \n",
       "25       APPLE iPhone 11 Pro (Midnight Green, 256 GB)    4.6   \n",
       "26           APPLE iPhone 11 Pro Max (Silver, 256 GB)    4.7   \n",
       "27           APPLE iPhone 11 Pro (Space Grey, 256 GB)    4.6   \n",
       "28  Apple iPhone 11 (Red, 64 GB) (Includes EarPods...    4.6   \n",
       "29                APPLE iPhone 11 Pro (Silver, 64 GB)    4.6   \n",
       "30               APPLE iPhone 6 Plus (Silver, 128 GB)    4.5   \n",
       "31                APPLE iPhone 5s (Space Grey, 16 GB)    4.4   \n",
       "32                       APPLE iPhone 5C (Blue, 8 GB)    3.9   \n",
       "33                       APPLE iPhone 6 (Gold, 64 GB)    4.4   \n",
       "34                     APPLE iPhone 6 (Silver, 16 GB)    4.4   \n",
       "35                      APPLE iPhone 6 (Gold, 128 GB)    4.4   \n",
       "36                APPLE iPhone 6 Plus (Silver, 64 GB)    4.5   \n",
       "37            APPLE iPhone 6 Plus (Space Grey, 16 GB)    4.5   \n",
       "38                 APPLE iPhone 6 (Space Grey, 32 GB)    4.4   \n",
       "39            APPLE iPhone 6 Plus (Space Grey, 64 GB)    4.5   \n",
       "40                      APPLE iPhone 6 (Grey, 128 GB)    4.4   \n",
       "41                    APPLE iPhone 6 (Silver, 128 GB)    4.4   \n",
       "42                APPLE iPhone 6 Plus (Silver, 16 GB)    4.5   \n",
       "43                    APPLE iPhone 5s (Silver, 16 GB)    4.4   \n",
       "44                       APPLE iPhone 5C (Pink, 8 GB)    3.9   \n",
       "45                     APPLE iPhone 5C (Yellow, 8 GB)    3.9   \n",
       "46                      APPLE iPhone 5s (Gold, 16 GB)    4.4   \n",
       "47                  APPLE iPhone 6 Plus (Gold, 64 GB)    4.5   \n",
       "48                       APPLE iPhone 6 (Gold, 16 GB)    4.4   \n",
       "49                 APPLE iPhone 6 (Space Grey, 64 GB)    4.4   \n",
       "50           APPLE iPhone 6 Plus (Space Grey, 128 GB)    4.5   \n",
       "51                     APPLE iPhone X (Silver, 64 GB)    4.6   \n",
       "52                     APPLE iPhone 6 (Silver, 64 GB)    4.4   \n",
       "53                    APPLE iPhone X (Silver, 256 GB)    4.6   \n",
       "54                 APPLE iPhone X (Space Gray, 64 GB)    4.6   \n",
       "55                APPLE iPhone X (Space Gray, 256 GB)    4.6   \n",
       "56                     APPLE iPhone 5C (White, 32 GB)    3.9   \n",
       "57                      APPLE iPhone 5C (White, 8 GB)    3.9   \n",
       "\n",
       "                               Review  \n",
       "0   1,45,544 Ratings & 16,327 Reviews  \n",
       "1         1,670 Ratings & 201 Reviews  \n",
       "2      62,702 Ratings & 7,379 Reviews  \n",
       "3         1,324 Ratings & 265 Reviews  \n",
       "4         1,324 Ratings & 265 Reviews  \n",
       "5      62,702 Ratings & 7,379 Reviews  \n",
       "6         1,670 Ratings & 201 Reviews  \n",
       "7   1,45,544 Ratings & 16,327 Reviews  \n",
       "8   1,45,544 Ratings & 16,327 Reviews  \n",
       "9         1,670 Ratings & 201 Reviews  \n",
       "10       10,982 Ratings & 876 Reviews  \n",
       "11  1,45,544 Ratings & 16,327 Reviews  \n",
       "12       10,982 Ratings & 876 Reviews  \n",
       "13       10,982 Ratings & 876 Reviews  \n",
       "14       10,982 Ratings & 876 Reviews  \n",
       "15        1,324 Ratings & 265 Reviews  \n",
       "16        1,324 Ratings & 265 Reviews  \n",
       "17     78,385 Ratings & 5,905 Reviews  \n",
       "18     78,385 Ratings & 5,905 Reviews  \n",
       "19        1,091 Ratings & 100 Reviews  \n",
       "20        1,091 Ratings & 100 Reviews  \n",
       "21        1,091 Ratings & 100 Reviews  \n",
       "22     78,385 Ratings & 5,905 Reviews  \n",
       "23        8,571 Ratings & 625 Reviews  \n",
       "24        8,571 Ratings & 625 Reviews  \n",
       "25        8,571 Ratings & 625 Reviews  \n",
       "26        1,091 Ratings & 100 Reviews  \n",
       "27        8,571 Ratings & 625 Reviews  \n",
       "28     78,385 Ratings & 5,905 Reviews  \n",
       "29        8,571 Ratings & 625 Reviews  \n",
       "30        1,670 Ratings & 201 Reviews  \n",
       "31     62,702 Ratings & 7,379 Reviews  \n",
       "32        1,324 Ratings & 265 Reviews  \n",
       "33  1,45,544 Ratings & 16,327 Reviews  \n",
       "34  1,45,544 Ratings & 16,327 Reviews  \n",
       "35  1,45,544 Ratings & 16,327 Reviews  \n",
       "36        1,670 Ratings & 201 Reviews  \n",
       "37        1,670 Ratings & 201 Reviews  \n",
       "38  1,45,544 Ratings & 16,327 Reviews  \n",
       "39        1,670 Ratings & 201 Reviews  \n",
       "40  1,45,544 Ratings & 16,327 Reviews  \n",
       "41  1,45,544 Ratings & 16,327 Reviews  \n",
       "42        1,670 Ratings & 201 Reviews  \n",
       "43     62,702 Ratings & 7,379 Reviews  \n",
       "44        1,324 Ratings & 265 Reviews  \n",
       "45        1,324 Ratings & 265 Reviews  \n",
       "46     62,702 Ratings & 7,379 Reviews  \n",
       "47        1,670 Ratings & 201 Reviews  \n",
       "48  1,45,544 Ratings & 16,327 Reviews  \n",
       "49  1,45,544 Ratings & 16,327 Reviews  \n",
       "50        1,670 Ratings & 201 Reviews  \n",
       "51       10,982 Ratings & 876 Reviews  \n",
       "52  1,45,544 Ratings & 16,327 Reviews  \n",
       "53       10,982 Ratings & 876 Reviews  \n",
       "54       10,982 Ratings & 876 Reviews  \n",
       "55       10,982 Ratings & 876 Reviews  \n",
       "56        1,324 Ratings & 265 Reviews  \n",
       "57        1,324 Ratings & 265 Reviews  "
      ]
     },
     "execution_count": 105,
     "metadata": {},
     "output_type": "execute_result"
    }
   ],
   "source": [
    "df"
   ]
  },
  {
   "cell_type": "markdown",
   "id": "e0d158ad",
   "metadata": {},
   "source": [
    "# 6)Scrape data for first 100 sneakers you find when you visit flipkart.com andsearch for “sneakers” i"
   ]
  },
  {
   "cell_type": "code",
   "execution_count": 1,
   "id": "24c98345",
   "metadata": {},
   "outputs": [],
   "source": [
    "import selenium \n",
    "from selenium import webdriver\n",
    "import pandas as pd \n",
    "import warnings\n",
    "warnings.filterwarnings(\"ignore\")"
   ]
  },
  {
   "cell_type": "code",
   "execution_count": 2,
   "id": "a77e1b06",
   "metadata": {},
   "outputs": [],
   "source": [
    "driver=webdriver.Chrome(r'C:/Users/sagar/Downloads/chromedriver_win32 (1)/chromedriver.exe')"
   ]
  },
  {
   "cell_type": "code",
   "execution_count": 3,
   "id": "6cd25bdd",
   "metadata": {},
   "outputs": [],
   "source": [
    "driver=webdriver.Chrome('chromedriver.exe')"
   ]
  },
  {
   "cell_type": "code",
   "execution_count": 4,
   "id": "2a39ed44",
   "metadata": {},
   "outputs": [],
   "source": [
    "url=\"https://www.flipkart.com/\"\n",
    "driver.get(url)"
   ]
  },
  {
   "cell_type": "code",
   "execution_count": 2,
   "id": "ffed06a9",
   "metadata": {},
   "outputs": [
    {
     "data": {
      "text/plain": [
       "<selenium.webdriver.remote.webelement.WebElement (session=\"49db765d91561edcee78ffa0f08b697a\", element=\"fa7bb194-0465-4f5d-9591-1d30987eb88e\")>"
      ]
     },
     "execution_count": 2,
     "metadata": {},
     "output_type": "execute_result"
    }
   ],
   "source": [
    "search_sneakers=driver.find_element_by_class_name(\"_3704LK\")\n",
    "search_sneakers"
   ]
  },
  {
   "cell_type": "code",
   "execution_count": 3,
   "id": "fb27f922",
   "metadata": {},
   "outputs": [],
   "source": [
    "search_sneakers.send_keys('sneakers')"
   ]
  },
  {
   "cell_type": "code",
   "execution_count": 4,
   "id": "b9cb244b",
   "metadata": {},
   "outputs": [
    {
     "data": {
      "text/plain": [
       "<selenium.webdriver.remote.webelement.WebElement (session=\"49db765d91561edcee78ffa0f08b697a\", element=\"6d756a48-36e0-4e57-a7eb-e4677290305c\")>"
      ]
     },
     "execution_count": 4,
     "metadata": {},
     "output_type": "execute_result"
    }
   ],
   "source": [
    "search_btn=driver.find_element_by_xpath('/html/body/div[1]/div/div[1]/div[1]/div[2]/div[2]/form/div/button')\n",
    "search_btn"
   ]
  },
  {
   "cell_type": "code",
   "execution_count": 5,
   "id": "0b4bec52",
   "metadata": {},
   "outputs": [],
   "source": [
    "search_btn.click()"
   ]
  },
  {
   "cell_type": "code",
   "execution_count": 6,
   "id": "ab6ab899",
   "metadata": {},
   "outputs": [],
   "source": [
    "brand = []\n",
    "description =[]\n",
    "price = []\n",
    "discount = []"
   ]
  },
  {
   "cell_type": "code",
   "execution_count": 7,
   "id": "5ee2be75",
   "metadata": {},
   "outputs": [],
   "source": [
    "#scrapping the required details\n",
    "start=0\n",
    "end=3\n",
    "for page in range(start,end):\n",
    "    \n",
    "    for i in driver.find_elements_by_class_name(\"_2WkVRV\"):\n",
    "        brand.append(i.text)\n",
    "        \n",
    "    for j in driver.find_elements_by_class_name(\"IRpwTa\"):\n",
    "        description.append(j.text)\n",
    "        \n",
    "    for i in driver.find_elements_by_xpath(\"//div[@class='_30jeq3']\"):\n",
    "        price.append(i.text)\n",
    "        \n",
    "    for i in driver.find_elements_by_xpath('//div[@class=\"_3Ay6Sb\"]')  :\n",
    "        discount.append(i.text)\n",
    "        \n",
    "    nxt_button=driver.find_elements_by_xpath(\"//a[@class='_1LKTO3']\")\n",
    "    try:\n",
    "        driver.get(nxt_button[1].get_attribute('href'))\n",
    "    except:\n",
    "        driver.get(nxt_button[0].get_attribute('href'))\n",
    "\n",
    "    \n"
   ]
  },
  {
   "cell_type": "code",
   "execution_count": 8,
   "id": "ca9b6064",
   "metadata": {},
   "outputs": [
    {
     "name": "stdout",
     "output_type": "stream",
     "text": [
      "120 120 120 120\n"
     ]
    }
   ],
   "source": [
    "print(len(brand),len(description),len(price),len(discount))"
   ]
  },
  {
   "cell_type": "code",
   "execution_count": 9,
   "id": "71a81911",
   "metadata": {},
   "outputs": [],
   "source": [
    "import pandas as pd \n",
    "df = pd.DataFrame({'Brand':brand[:100],'Description':description[:100],'Price':price[:100],'Discount':discount[:100]})"
   ]
  },
  {
   "cell_type": "code",
   "execution_count": 10,
   "id": "cee61250",
   "metadata": {},
   "outputs": [
    {
     "data": {
      "text/html": [
       "<div>\n",
       "<style scoped>\n",
       "    .dataframe tbody tr th:only-of-type {\n",
       "        vertical-align: middle;\n",
       "    }\n",
       "\n",
       "    .dataframe tbody tr th {\n",
       "        vertical-align: top;\n",
       "    }\n",
       "\n",
       "    .dataframe thead th {\n",
       "        text-align: right;\n",
       "    }\n",
       "</style>\n",
       "<table border=\"1\" class=\"dataframe\">\n",
       "  <thead>\n",
       "    <tr style=\"text-align: right;\">\n",
       "      <th></th>\n",
       "      <th>Brand</th>\n",
       "      <th>Description</th>\n",
       "      <th>Price</th>\n",
       "      <th>Discount</th>\n",
       "    </tr>\n",
       "  </thead>\n",
       "  <tbody>\n",
       "    <tr>\n",
       "      <th>0</th>\n",
       "      <td>Chevit</td>\n",
       "      <td>Super Stylish &amp; Trendy Combo Pack of 02 Pairs ...</td>\n",
       "      <td>₹649</td>\n",
       "      <td>59% off</td>\n",
       "    </tr>\n",
       "    <tr>\n",
       "      <th>1</th>\n",
       "      <td>World Wear Footwear</td>\n",
       "      <td>Sneakers For Men</td>\n",
       "      <td>₹199</td>\n",
       "      <td>60% off</td>\n",
       "    </tr>\n",
       "    <tr>\n",
       "      <th>2</th>\n",
       "      <td>DUNKASTON</td>\n",
       "      <td>Sneakers For Men</td>\n",
       "      <td>₹339</td>\n",
       "      <td>77% off</td>\n",
       "    </tr>\n",
       "    <tr>\n",
       "      <th>3</th>\n",
       "      <td>COZY2FOOTWEAR</td>\n",
       "      <td>Comfortable Premium Stylish Unique Trendy Popu...</td>\n",
       "      <td>₹499</td>\n",
       "      <td>66% off</td>\n",
       "    </tr>\n",
       "    <tr>\n",
       "      <th>4</th>\n",
       "      <td>Magnolia</td>\n",
       "      <td>Sneakers For Men</td>\n",
       "      <td>₹448</td>\n",
       "      <td>55% off</td>\n",
       "    </tr>\n",
       "    <tr>\n",
       "      <th>...</th>\n",
       "      <td>...</td>\n",
       "      <td>...</td>\n",
       "      <td>...</td>\n",
       "      <td>...</td>\n",
       "    </tr>\n",
       "    <tr>\n",
       "      <th>95</th>\n",
       "      <td>Roadster</td>\n",
       "      <td>Men Blue Solid Sneakers Sneakers For Men</td>\n",
       "      <td>₹1,299</td>\n",
       "      <td>53% off</td>\n",
       "    </tr>\n",
       "    <tr>\n",
       "      <th>96</th>\n",
       "      <td>ESSENCE</td>\n",
       "      <td>Sneakers For Men</td>\n",
       "      <td>₹474</td>\n",
       "      <td>52% off</td>\n",
       "    </tr>\n",
       "    <tr>\n",
       "      <th>97</th>\n",
       "      <td>Brainer</td>\n",
       "      <td>Sneakers For Men</td>\n",
       "      <td>₹499</td>\n",
       "      <td>61% off</td>\n",
       "    </tr>\n",
       "    <tr>\n",
       "      <th>98</th>\n",
       "      <td>AMICO</td>\n",
       "      <td>Sneakers For Men</td>\n",
       "      <td>₹499</td>\n",
       "      <td>50% off</td>\n",
       "    </tr>\n",
       "    <tr>\n",
       "      <th>99</th>\n",
       "      <td>KWIK FIT</td>\n",
       "      <td>Kwik FIT casual sneaker shoes and partywear sh...</td>\n",
       "      <td>₹429</td>\n",
       "      <td>78% off</td>\n",
       "    </tr>\n",
       "  </tbody>\n",
       "</table>\n",
       "<p>100 rows × 4 columns</p>\n",
       "</div>"
      ],
      "text/plain": [
       "                  Brand                                        Description  \\\n",
       "0                Chevit  Super Stylish & Trendy Combo Pack of 02 Pairs ...   \n",
       "1   World Wear Footwear                                   Sneakers For Men   \n",
       "2             DUNKASTON                                   Sneakers For Men   \n",
       "3         COZY2FOOTWEAR  Comfortable Premium Stylish Unique Trendy Popu...   \n",
       "4              Magnolia                                   Sneakers For Men   \n",
       "..                  ...                                                ...   \n",
       "95             Roadster           Men Blue Solid Sneakers Sneakers For Men   \n",
       "96              ESSENCE                                   Sneakers For Men   \n",
       "97              Brainer                                   Sneakers For Men   \n",
       "98                AMICO                                   Sneakers For Men   \n",
       "99             KWIK FIT  Kwik FIT casual sneaker shoes and partywear sh...   \n",
       "\n",
       "     Price Discount  \n",
       "0     ₹649  59% off  \n",
       "1     ₹199  60% off  \n",
       "2     ₹339  77% off  \n",
       "3     ₹499  66% off  \n",
       "4     ₹448  55% off  \n",
       "..     ...      ...  \n",
       "95  ₹1,299  53% off  \n",
       "96    ₹474  52% off  \n",
       "97    ₹499  61% off  \n",
       "98    ₹499  50% off  \n",
       "99    ₹429  78% off  \n",
       "\n",
       "[100 rows x 4 columns]"
      ]
     },
     "execution_count": 10,
     "metadata": {},
     "output_type": "execute_result"
    }
   ],
   "source": [
    "df"
   ]
  },
  {
   "cell_type": "markdown",
   "id": "d50d62c6",
   "metadata": {},
   "source": [
    "# 7)Q7: Go to the link - https://www.myntra.com/shoes\n",
    "Set Price filter to “Rs. 7149 to Rs. 14099 ” , Color filter to “Black”, as shown inthe below image."
   ]
  },
  {
   "cell_type": "code",
   "execution_count": 154,
   "id": "ce3365d7",
   "metadata": {},
   "outputs": [],
   "source": [
    "import selenium \n",
    "from selenium import webdriver\n",
    "import pandas as pd \n",
    "import warnings\n",
    "warnings.filterwarnings(\"ignore\")"
   ]
  },
  {
   "cell_type": "code",
   "execution_count": 155,
   "id": "9673134b",
   "metadata": {},
   "outputs": [],
   "source": [
    "driver=webdriver.Chrome(r'C:/Users/sagar/Downloads/chromedriver_win32 (1)/chromedriver.exe')"
   ]
  },
  {
   "cell_type": "code",
   "execution_count": 156,
   "id": "33aae2f3",
   "metadata": {},
   "outputs": [],
   "source": [
    "url=\"https://www.myntra.com/shoes\"\n",
    "driver.get(url)"
   ]
  },
  {
   "cell_type": "code",
   "execution_count": 162,
   "id": "8f8b205a",
   "metadata": {},
   "outputs": [
    {
     "data": {
      "text/plain": [
       "<selenium.webdriver.remote.webelement.WebElement (session=\"4622299f95b46bb74ca2151166bb12ff\", element=\"037d9d9d-110b-4bfb-924f-f8f83ec90c0e\")>"
      ]
     },
     "execution_count": 162,
     "metadata": {},
     "output_type": "execute_result"
    }
   ],
   "source": [
    "search_range=driver.find_element_by_xpath('/html/body/div[2]/div/div[1]/main/div[3]/div[1]/section/div/div[5]/ul/li[2]/label/div')\n",
    "search_btn"
   ]
  },
  {
   "cell_type": "code",
   "execution_count": 163,
   "id": "741f9197",
   "metadata": {},
   "outputs": [],
   "source": [
    "search_range.click()"
   ]
  },
  {
   "cell_type": "code",
   "execution_count": 159,
   "id": "5071ce80",
   "metadata": {},
   "outputs": [
    {
     "data": {
      "text/plain": [
       "<selenium.webdriver.remote.webelement.WebElement (session=\"50b56c478794765bbd2cd7fb94c23b0f\", element=\"1b1c699f-6df7-4418-a27b-92a67faf67b2\")>"
      ]
     },
     "execution_count": 159,
     "metadata": {},
     "output_type": "execute_result"
    }
   ],
   "source": [
    "search_color=driver.find_element_by_xpath('/html/body/div[2]/div/div[1]/main/div[3]/div[1]/section/div/div[6]/ul/li[1]/label/div')\n",
    "search_color"
   ]
  },
  {
   "cell_type": "code",
   "execution_count": 160,
   "id": "f183c723",
   "metadata": {},
   "outputs": [],
   "source": [
    "search_color.click()"
   ]
  },
  {
   "cell_type": "code",
   "execution_count": 161,
   "id": "01fad6ce",
   "metadata": {},
   "outputs": [],
   "source": [
    "brand = []\n",
    "description =[]\n",
    "price = []\n",
    "discount = []"
   ]
  },
  {
   "cell_type": "code",
   "execution_count": 164,
   "id": "abf45d8e",
   "metadata": {},
   "outputs": [],
   "source": [
    "\n",
    "for page in range(start,end):\n",
    "    \n",
    "    for i in driver.find_elements_by_class_name(\"product-brand\"):\n",
    "        brand.append(i.text)\n",
    "        \n",
    "    for j in driver.find_elements_by_class_name(\"product-product\"):\n",
    "        description.append(j.text)\n",
    "        \n",
    "    for i in driver.find_elements_by_xpath(\"//div[@class='product-price']\"):\n",
    "        price.append(i.text)\n",
    "        \n",
    "   \n",
    "        \n",
    "   "
   ]
  },
  {
   "cell_type": "code",
   "execution_count": 167,
   "id": "a3c39157",
   "metadata": {},
   "outputs": [
    {
     "name": "stdout",
     "output_type": "stream",
     "text": [
      "150 150 150\n"
     ]
    }
   ],
   "source": [
    "print(len(brand),len(description),len(price))"
   ]
  },
  {
   "cell_type": "code",
   "execution_count": 169,
   "id": "27f1b59f",
   "metadata": {},
   "outputs": [],
   "source": [
    "import pandas as pd \n",
    "df = pd.DataFrame({'Brand':brand[:100],'Description':description[:100],'Price':price[:100]})"
   ]
  },
  {
   "cell_type": "code",
   "execution_count": 170,
   "id": "00630d1e",
   "metadata": {},
   "outputs": [
    {
     "data": {
      "text/html": [
       "<div>\n",
       "<style scoped>\n",
       "    .dataframe tbody tr th:only-of-type {\n",
       "        vertical-align: middle;\n",
       "    }\n",
       "\n",
       "    .dataframe tbody tr th {\n",
       "        vertical-align: top;\n",
       "    }\n",
       "\n",
       "    .dataframe thead th {\n",
       "        text-align: right;\n",
       "    }\n",
       "</style>\n",
       "<table border=\"1\" class=\"dataframe\">\n",
       "  <thead>\n",
       "    <tr style=\"text-align: right;\">\n",
       "      <th></th>\n",
       "      <th>Brand</th>\n",
       "      <th>Description</th>\n",
       "      <th>Price</th>\n",
       "    </tr>\n",
       "  </thead>\n",
       "  <tbody>\n",
       "    <tr>\n",
       "      <th>0</th>\n",
       "      <td>Nike</td>\n",
       "      <td>Men Winflo 7 Running Shoes</td>\n",
       "      <td>Rs. 7995</td>\n",
       "    </tr>\n",
       "    <tr>\n",
       "      <th>1</th>\n",
       "      <td>ALDO</td>\n",
       "      <td>Men Printed Sneakers</td>\n",
       "      <td>Rs. 9099Rs. 12999(30% OFF)</td>\n",
       "    </tr>\n",
       "    <tr>\n",
       "      <th>2</th>\n",
       "      <td>ALDO</td>\n",
       "      <td>Men Leather Driving Shoes</td>\n",
       "      <td>Rs. 12999</td>\n",
       "    </tr>\n",
       "    <tr>\n",
       "      <th>3</th>\n",
       "      <td>Puma</td>\n",
       "      <td>Men Magnify Nitro Running</td>\n",
       "      <td>Rs. 9099Rs. 12999(30% OFF)</td>\n",
       "    </tr>\n",
       "    <tr>\n",
       "      <th>4</th>\n",
       "      <td>Puma</td>\n",
       "      <td>Electrify Nitro Running Shoes</td>\n",
       "      <td>Rs. 9999</td>\n",
       "    </tr>\n",
       "    <tr>\n",
       "      <th>...</th>\n",
       "      <td>...</td>\n",
       "      <td>...</td>\n",
       "      <td>...</td>\n",
       "    </tr>\n",
       "    <tr>\n",
       "      <th>95</th>\n",
       "      <td>Geox</td>\n",
       "      <td>Women Leather Pumps</td>\n",
       "      <td>Rs. 8999</td>\n",
       "    </tr>\n",
       "    <tr>\n",
       "      <th>96</th>\n",
       "      <td>Bugatti</td>\n",
       "      <td>Men Solid Formal Oxfords</td>\n",
       "      <td>Rs. 8999</td>\n",
       "    </tr>\n",
       "    <tr>\n",
       "      <th>97</th>\n",
       "      <td>Heel &amp; Buckle London</td>\n",
       "      <td>Men Formal Leather Derby</td>\n",
       "      <td>Rs. 7990</td>\n",
       "    </tr>\n",
       "    <tr>\n",
       "      <th>98</th>\n",
       "      <td>DAVINCHI</td>\n",
       "      <td>Solid Slip On Shoes</td>\n",
       "      <td>Rs. 7990</td>\n",
       "    </tr>\n",
       "    <tr>\n",
       "      <th>99</th>\n",
       "      <td>ROSSO BRUNELLO</td>\n",
       "      <td>PU Block Pumps with Buckles</td>\n",
       "      <td>Rs. 7999</td>\n",
       "    </tr>\n",
       "  </tbody>\n",
       "</table>\n",
       "<p>100 rows × 3 columns</p>\n",
       "</div>"
      ],
      "text/plain": [
       "                   Brand                    Description  \\\n",
       "0                   Nike     Men Winflo 7 Running Shoes   \n",
       "1                   ALDO           Men Printed Sneakers   \n",
       "2                   ALDO      Men Leather Driving Shoes   \n",
       "3                   Puma      Men Magnify Nitro Running   \n",
       "4                   Puma  Electrify Nitro Running Shoes   \n",
       "..                   ...                            ...   \n",
       "95                  Geox            Women Leather Pumps   \n",
       "96               Bugatti       Men Solid Formal Oxfords   \n",
       "97  Heel & Buckle London       Men Formal Leather Derby   \n",
       "98              DAVINCHI            Solid Slip On Shoes   \n",
       "99        ROSSO BRUNELLO    PU Block Pumps with Buckles   \n",
       "\n",
       "                         Price  \n",
       "0                     Rs. 7995  \n",
       "1   Rs. 9099Rs. 12999(30% OFF)  \n",
       "2                    Rs. 12999  \n",
       "3   Rs. 9099Rs. 12999(30% OFF)  \n",
       "4                     Rs. 9999  \n",
       "..                         ...  \n",
       "95                    Rs. 8999  \n",
       "96                    Rs. 8999  \n",
       "97                    Rs. 7990  \n",
       "98                    Rs. 7990  \n",
       "99                    Rs. 7999  \n",
       "\n",
       "[100 rows x 3 columns]"
      ]
     },
     "execution_count": 170,
     "metadata": {},
     "output_type": "execute_result"
    }
   ],
   "source": [
    "df"
   ]
  },
  {
   "cell_type": "markdown",
   "id": "2439238c",
   "metadata": {},
   "source": [
    "# Q8: Go to webpage https://www.amazon.in/\n",
    "Enter “Laptop” in the search field and then click the search icon.\n",
    "Then set CPU Type filter to “Intel Core i7” and “Intel Core i9” as shown in the below image:"
   ]
  },
  {
   "cell_type": "code",
   "execution_count": 10,
   "id": "a129ac53",
   "metadata": {},
   "outputs": [],
   "source": [
    "import selenium \n",
    "from selenium import webdriver \n",
    "import pandas as pd \n",
    "import warnings \n",
    "warnings.filterwarnings(\"ignore\")"
   ]
  },
  {
   "cell_type": "code",
   "execution_count": 11,
   "id": "0171a614",
   "metadata": {},
   "outputs": [],
   "source": [
    "driver=webdriver.Chrome(r'C:/Users/sagar/Downloads/chromedriver_win32 (1)/chromedriver.exe')"
   ]
  },
  {
   "cell_type": "code",
   "execution_count": 12,
   "id": "d039eb37",
   "metadata": {},
   "outputs": [],
   "source": [
    "url=\"https://www.amazon.in/\"\n",
    "driver.get(url)"
   ]
  },
  {
   "cell_type": "code",
   "execution_count": 13,
   "id": "6e80962d",
   "metadata": {},
   "outputs": [
    {
     "data": {
      "text/plain": [
       "<selenium.webdriver.remote.webelement.WebElement (session=\"99e4ea4c2d49ad0646f407088efd672c\", element=\"d68e63a5-2c05-4218-8218-cc9bdc2f32d7\")>"
      ]
     },
     "execution_count": 13,
     "metadata": {},
     "output_type": "execute_result"
    }
   ],
   "source": [
    "search_lap=driver.find_element_by_id(\"twotabsearchtextbox\")\n",
    "search_lap"
   ]
  },
  {
   "cell_type": "code",
   "execution_count": 14,
   "id": "201a1095",
   "metadata": {},
   "outputs": [],
   "source": [
    "search_lap.send_keys(\"laptop\")"
   ]
  },
  {
   "cell_type": "code",
   "execution_count": 15,
   "id": "c56d52cb",
   "metadata": {},
   "outputs": [
    {
     "data": {
      "text/plain": [
       "<selenium.webdriver.remote.webelement.WebElement (session=\"99e4ea4c2d49ad0646f407088efd672c\", element=\"da2a9954-360c-45ce-9555-597624ceb591\")>"
      ]
     },
     "execution_count": 15,
     "metadata": {},
     "output_type": "execute_result"
    }
   ],
   "source": [
    "search_btn=driver.find_element_by_id(\"nav-search-submit-button\")\n",
    "search_btn"
   ]
  },
  {
   "cell_type": "code",
   "execution_count": 16,
   "id": "56dcad75",
   "metadata": {},
   "outputs": [],
   "source": [
    "search_btn.click()"
   ]
  },
  {
   "cell_type": "code",
   "execution_count": 17,
   "id": "a98b27d0",
   "metadata": {},
   "outputs": [
    {
     "data": {
      "text/plain": [
       "<selenium.webdriver.remote.webelement.WebElement (session=\"99e4ea4c2d49ad0646f407088efd672c\", element=\"629ba97c-9b9e-426a-944d-9c8964b8b458\")>"
      ]
     },
     "execution_count": 17,
     "metadata": {},
     "output_type": "execute_result"
    }
   ],
   "source": [
    "search_cpu7=driver.find_element_by_xpath(\"/html/body/div[1]/div[2]/div[1]/div[2]/div/div[3]/span/div[1]/div/div/div[6]/ul[5]/li[12]/span/a/div/label/i\")\n",
    "search_cpu7"
   ]
  },
  {
   "cell_type": "code",
   "execution_count": 18,
   "id": "7c21b369",
   "metadata": {},
   "outputs": [],
   "source": [
    "search_cpu7.click()"
   ]
  },
  {
   "cell_type": "code",
   "execution_count": 22,
   "id": "95a5180a",
   "metadata": {},
   "outputs": [
    {
     "data": {
      "text/plain": [
       "[<selenium.webdriver.remote.webelement.WebElement (session=\"99e4ea4c2d49ad0646f407088efd672c\", element=\"c325aec4-c3a6-4d15-bd94-50c74c2783a2\")>]"
      ]
     },
     "execution_count": 22,
     "metadata": {},
     "output_type": "execute_result"
    }
   ],
   "source": [
    "lap_tags = driver.find_elements_by_xpath('//div[@class=\"a-section a-spacing-none s-padding-right-small s-title-instructions-style\"]')\n",
    "len(title_tags)\n",
    "lap_tags[0:1]\n"
   ]
  },
  {
   "cell_type": "code",
   "execution_count": 23,
   "id": "556680c9",
   "metadata": {},
   "outputs": [
    {
     "data": {
      "text/plain": [
       "['Sponsored\\nFujitsu UH-X 11th Gen Intel Core i7 13.3” FHD IPS 400Nits Thin & Light Laptop(16GB/512GB SSD/Windows 11/Office 2021/Iris Xe Graphics/Backlit Kb/Fingerprint Reader/2Yr Warranty/Black/878gms),4ZR1F38024']"
      ]
     },
     "execution_count": 23,
     "metadata": {},
     "output_type": "execute_result"
    }
   ],
   "source": [
    "lap_tags = driver.find_elements_by_xpath('//div[@class=\"a-section a-spacing-none s-padding-right-small s-title-instructions-style\"]')\n",
    "len(title_tags)\n",
    "lap_tags[0:1]"
   ]
  },
  {
   "cell_type": "code",
   "execution_count": null,
   "id": "f8f6e833",
   "metadata": {},
   "outputs": [],
   "source": []
  },
  {
   "cell_type": "code",
   "execution_count": null,
   "id": "bf99fb56",
   "metadata": {},
   "outputs": [],
   "source": [
    "price_tags = driver.find_elements_by_xpath('//div[@class=\"a-section a-spacing-none s-padding-right-small s-title-instructions-style\"]')\n",
    "len(price_tags)\n",
    "price_tags[0:1]"
   ]
  },
  {
   "cell_type": "code",
   "execution_count": null,
   "id": "163fe3b2",
   "metadata": {},
   "outputs": [],
   "source": []
  },
  {
   "cell_type": "markdown",
   "id": "b6a19856",
   "metadata": {},
   "source": [
    "# 9) Write a python program to scrape data for first 10 job results for Data Scientist Designation in Noida\n",
    "location. You have to scrape company name, No. of days ago when job was posted, Rating of the company"
   ]
  },
  {
   "cell_type": "code",
   "execution_count": 14,
   "id": "c5809488",
   "metadata": {},
   "outputs": [],
   "source": [
    "import selenium \n",
    "from selenium import webdriver\n",
    "import pandas as pd \n",
    "import warnings\n",
    "warnings.filterwarnings(\"ignore\")"
   ]
  },
  {
   "cell_type": "code",
   "execution_count": 15,
   "id": "8a52c19e",
   "metadata": {},
   "outputs": [],
   "source": [
    "driver=webdriver.Chrome(r'C:/Users/sagar/Downloads/chromedriver_win32 (1)/chromedriver.exe')"
   ]
  },
  {
   "cell_type": "code",
   "execution_count": 16,
   "id": "ddbbe53d",
   "metadata": {},
   "outputs": [],
   "source": [
    "url=\"https://www.ambitionbox.com/\"\n",
    "driver.get(url)"
   ]
  },
  {
   "cell_type": "code",
   "execution_count": 17,
   "id": "7920dc5a",
   "metadata": {},
   "outputs": [
    {
     "data": {
      "text/plain": [
       "<selenium.webdriver.remote.webelement.WebElement (session=\"b698e8318f54b978cfd599dc4f399491\", element=\"dfc86b09-b4cf-4b13-917d-2137f05e8897\")>"
      ]
     },
     "execution_count": 17,
     "metadata": {},
     "output_type": "execute_result"
    }
   ],
   "source": [
    "job_btn=driver.find_element_by_xpath(\"/html/body/div[1]/nav/nav/a[6]\")\n",
    "job_btn"
   ]
  },
  {
   "cell_type": "code",
   "execution_count": 18,
   "id": "c4187d20",
   "metadata": {},
   "outputs": [],
   "source": [
    "job_btn.click()"
   ]
  },
  {
   "cell_type": "code",
   "execution_count": 19,
   "id": "aee8791d",
   "metadata": {},
   "outputs": [],
   "source": [
    "from selenium.webdriver.support.select import Select\n"
   ]
  },
  {
   "cell_type": "code",
   "execution_count": 21,
   "id": "cd7c1c15",
   "metadata": {},
   "outputs": [],
   "source": [
    "name_btn=driver.find_element_by_xpath(\"/html/body/div/div/div/div[2]/div[1]/div/div/div/div/span/input\").click()"
   ]
  },
  {
   "cell_type": "code",
   "execution_count": 23,
   "id": "c6a25a14",
   "metadata": {},
   "outputs": [
    {
     "ename": "AttributeError",
     "evalue": "'NoneType' object has no attribute 'send_keys'",
     "output_type": "error",
     "traceback": [
      "\u001b[1;31m---------------------------------------------------------------------------\u001b[0m",
      "\u001b[1;31mAttributeError\u001b[0m                            Traceback (most recent call last)",
      "\u001b[1;32m~\\AppData\\Local\\Temp/ipykernel_12264/3101863922.py\u001b[0m in \u001b[0;36m<module>\u001b[1;34m\u001b[0m\n\u001b[1;32m----> 1\u001b[1;33m \u001b[0mname_btn\u001b[0m\u001b[1;33m.\u001b[0m\u001b[0msend_keys\u001b[0m\u001b[1;33m(\u001b[0m\u001b[1;34m\"Data scientist\"\u001b[0m\u001b[1;33m)\u001b[0m\u001b[1;33m\u001b[0m\u001b[1;33m\u001b[0m\u001b[0m\n\u001b[0m",
      "\u001b[1;31mAttributeError\u001b[0m: 'NoneType' object has no attribute 'send_keys'"
     ]
    }
   ],
   "source": [
    "name_btn.send_keys(\"Data scientist\")"
   ]
  },
  {
   "cell_type": "code",
   "execution_count": 12,
   "id": "4f1b054f",
   "metadata": {},
   "outputs": [
    {
     "data": {
      "text/plain": [
       "<selenium.webdriver.remote.webelement.WebElement (session=\"4cceaf593542440d069291cf2a000857\", element=\"8bc16f7b-c503-4a68-b9b9-0e098812ab20\")>"
      ]
     },
     "execution_count": 12,
     "metadata": {},
     "output_type": "execute_result"
    }
   ],
   "source": [
    "search_btn=driver.find_element_by_xpath(\"/html/body/div/div/div/div[2]/div[1]/div/div/div/button/span\")\n",
    "search_btn"
   ]
  },
  {
   "cell_type": "code",
   "execution_count": 13,
   "id": "8562cef1",
   "metadata": {},
   "outputs": [],
   "source": [
    "search_btn.click()"
   ]
  },
  {
   "cell_type": "code",
   "execution_count": null,
   "id": "cda3542c",
   "metadata": {},
   "outputs": [],
   "source": []
  },
  {
   "cell_type": "code",
   "execution_count": null,
   "id": "6fa9da5b",
   "metadata": {},
   "outputs": [],
   "source": []
  }
 ],
 "metadata": {
  "kernelspec": {
   "display_name": "Python 3 (ipykernel)",
   "language": "python",
   "name": "python3"
  },
  "language_info": {
   "codemirror_mode": {
    "name": "ipython",
    "version": 3
   },
   "file_extension": ".py",
   "mimetype": "text/x-python",
   "name": "python",
   "nbconvert_exporter": "python",
   "pygments_lexer": "ipython3",
   "version": "3.9.7"
  }
 },
 "nbformat": 4,
 "nbformat_minor": 5
}
